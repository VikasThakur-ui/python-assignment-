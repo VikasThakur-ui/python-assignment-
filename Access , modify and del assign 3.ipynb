{
 "cells": [
  {
   "cell_type": "code",
   "execution_count": 2,
   "id": "f2a62ddd-e23b-4ec7-8e44-99314405b551",
   "metadata": {},
   "outputs": [],
   "source": [
    "#access , Delete And Modify in list with exmaple are below:-"
   ]
  },
  {
   "cell_type": "code",
   "execution_count": 4,
   "id": "f35d6c61-3cf8-4658-ae9c-447440d874cf",
   "metadata": {},
   "outputs": [],
   "source": [
    "#access"
   ]
  },
  {
   "cell_type": "code",
   "execution_count": 26,
   "id": "7d1baccc-065c-42fd-a5b5-956206f132b8",
   "metadata": {},
   "outputs": [
    {
     "data": {
      "text/plain": [
       "5"
      ]
     },
     "execution_count": 26,
     "metadata": {},
     "output_type": "execute_result"
    }
   ],
   "source": [
    "singer_list=[\"honey singh\",\"kk\",\"guru\",\"diljit\",\"sonu_nigam\"]\n",
    "len(singer_list)\n"
   ]
  },
  {
   "cell_type": "code",
   "execution_count": null,
   "id": "81238497-ca9f-48bf-a54d-fab855d2ea27",
   "metadata": {},
   "outputs": [],
   "source": [
    "# remove the vaulue from list "
   ]
  },
  {
   "cell_type": "code",
   "execution_count": 30,
   "id": "5ae0f6bd-2149-4e7b-b6ae-a44aa47050fb",
   "metadata": {},
   "outputs": [
    {
     "data": {
      "text/plain": [
       "['honey singh', 'kk', 'guru', 'diljit']"
      ]
     },
     "execution_count": 30,
     "metadata": {},
     "output_type": "execute_result"
    }
   ],
   "source": [
    "singer_list=[\"honey singh\",\"kk\",\"guru\",\"diljit\",\"sonu_nigam\"]\n",
    "singer_list.remove(\"sonu_nigam\")\n",
    "singer_list\n"
   ]
  },
  {
   "cell_type": "code",
   "execution_count": 32,
   "id": "bd2f3fb4-fd7e-4d7d-892f-c4918a5c09af",
   "metadata": {},
   "outputs": [
    {
     "data": {
      "text/plain": [
       "['12 fail', '3 ediots']"
      ]
     },
     "execution_count": 32,
     "metadata": {},
     "output_type": "execute_result"
    }
   ],
   "source": [
    "film_list=[\"12 fail\",\"ttzmp\",\"3 ediots\"]\n",
    "film_list.remove(\"ttzmp\")\n",
    "film_list"
   ]
  },
  {
   "cell_type": "code",
   "execution_count": 34,
   "id": "a6babb6c-3913-422c-9de5-ac20fe345f24",
   "metadata": {},
   "outputs": [],
   "source": [
    "#delete the variable"
   ]
  },
  {
   "cell_type": "code",
   "execution_count": 52,
   "id": "816cf9bb-f531-464a-95d6-ac51b85bf773",
   "metadata": {},
   "outputs": [],
   "source": [
    "singer_list=[\"honey singh\",\"kk\",\"guru\",\"diljit\",\"sonu_nigam\"]\n",
    "del singer_list"
   ]
  },
  {
   "cell_type": "code",
   "execution_count": null,
   "id": "890e9fa2-ae27-4af8-a015-aec1558184e0",
   "metadata": {},
   "outputs": [],
   "source": [
    "#clear list elements"
   ]
  },
  {
   "cell_type": "code",
   "execution_count": 44,
   "id": "5665a287-071b-4e03-8d3e-172be01f104f",
   "metadata": {},
   "outputs": [],
   "source": [
    "singer_list=[\"honey singh\",\"kk\",\"guru\",\"diljit\",\"sonu_nigam\"]\n",
    "singer_list.clear()"
   ]
  },
  {
   "cell_type": "code",
   "execution_count": 48,
   "id": "664a240f-a219-402c-9d3b-15e1c782b866",
   "metadata": {},
   "outputs": [
    {
     "data": {
      "text/plain": [
       "[]"
      ]
     },
     "execution_count": 48,
     "metadata": {},
     "output_type": "execute_result"
    }
   ],
   "source": [
    "singer_list"
   ]
  },
  {
   "cell_type": "code",
   "execution_count": 54,
   "id": "86017629-3bfc-43f7-b88e-ad7203010817",
   "metadata": {},
   "outputs": [],
   "source": [
    "#pop >> remove the last elements"
   ]
  },
  {
   "cell_type": "code",
   "execution_count": 74,
   "id": "78933262-fd04-4dcb-8bdd-4f3edaa1d368",
   "metadata": {},
   "outputs": [
    {
     "data": {
      "text/plain": [
       "'sonu_nigam'"
      ]
     },
     "execution_count": 74,
     "metadata": {},
     "output_type": "execute_result"
    }
   ],
   "source": [
    "singer_list=[\"honey singh\",\"kk\",\"guru\",\"diljit\",\"sonu_nigam\"]\n",
    "singer_list.pop()"
   ]
  },
  {
   "cell_type": "code",
   "execution_count": 76,
   "id": "4fc0a71b-053b-4c9e-8277-e541196d8b91",
   "metadata": {},
   "outputs": [
    {
     "data": {
      "text/plain": [
       "['honey singh', 'kk', 'guru', 'diljit']"
      ]
     },
     "execution_count": 76,
     "metadata": {},
     "output_type": "execute_result"
    }
   ],
   "source": [
    "singer_list"
   ]
  },
  {
   "cell_type": "code",
   "execution_count": 78,
   "id": "655e0d6c-0d5a-4dbe-92cc-aa33465d34bf",
   "metadata": {},
   "outputs": [],
   "source": [
    "#list comprehension >> consie code "
   ]
  },
  {
   "cell_type": "code",
   "execution_count": 86,
   "id": "fc0f44bd-5c7a-47c8-9c93-56e90b06353d",
   "metadata": {},
   "outputs": [],
   "source": [
    "prices=[10,20,30,40,50]\n",
    "double_prices=[]\n",
    "for i in prices:\n",
    "            double_prices.append(i*2)\n"
   ]
  },
  {
   "cell_type": "code",
   "execution_count": 88,
   "id": "5dcdafaf-493d-4912-95ee-ffa4d38e45f7",
   "metadata": {},
   "outputs": [
    {
     "data": {
      "text/plain": [
       "[20, 40, 60, 80, 100]"
      ]
     },
     "execution_count": 88,
     "metadata": {},
     "output_type": "execute_result"
    }
   ],
   "source": [
    "double_prices"
   ]
  },
  {
   "cell_type": "code",
   "execution_count": 90,
   "id": "e760c62d-866b-4d73-aab5-1807a099c30b",
   "metadata": {},
   "outputs": [],
   "source": [
    "ages=[12,13,15,45]\n",
    "single_ages=[]\n",
    "for i in ages:\n",
    "    single_ages.append(i/2)"
   ]
  },
  {
   "cell_type": "code",
   "execution_count": 92,
   "id": "8879c755-e01a-49fc-8da0-dc1482fa7d35",
   "metadata": {},
   "outputs": [
    {
     "data": {
      "text/plain": [
       "[6.0, 6.5, 7.5, 22.5]"
      ]
     },
     "execution_count": 92,
     "metadata": {},
     "output_type": "execute_result"
    }
   ],
   "source": [
    "single_ages"
   ]
  },
  {
   "cell_type": "code",
   "execution_count": null,
   "id": "0e007a31-a909-4800-bc16-522adb050baa",
   "metadata": {},
   "outputs": [],
   "source": []
  }
 ],
 "metadata": {
  "kernelspec": {
   "display_name": "Python 3 (ipykernel)",
   "language": "python",
   "name": "python3"
  },
  "language_info": {
   "codemirror_mode": {
    "name": "ipython",
    "version": 3
   },
   "file_extension": ".py",
   "mimetype": "text/x-python",
   "name": "python",
   "nbconvert_exporter": "python",
   "pygments_lexer": "ipython3",
   "version": "3.12.4"
  }
 },
 "nbformat": 4,
 "nbformat_minor": 5
}
