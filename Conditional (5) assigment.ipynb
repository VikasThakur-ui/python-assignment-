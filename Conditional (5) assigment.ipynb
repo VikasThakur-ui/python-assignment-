{
 "cells": [
  {
   "cell_type": "code",
   "execution_count": 1,
   "id": "5660a57c-f79a-4965-9e83-f295e4ee2e29",
   "metadata": {},
   "outputs": [
    {
     "name": "stdout",
     "output_type": "stream",
     "text": [
      "the number greather then 100\n"
     ]
    }
   ],
   "source": [
    "#if exapmles\n",
    "a=100\n",
    "if a>50:# it will execute the block when the condition is true\n",
    "    print(\"the number greather then 100\")\n"
   ]
  },
  {
   "cell_type": "code",
   "execution_count": 2,
   "id": "55bbcb58-8ee8-48c2-bef3-28c17986abac",
   "metadata": {},
   "outputs": [
    {
     "name": "stdout",
     "output_type": "stream",
     "text": [
      "I will paly cricket\n"
     ]
    }
   ],
   "source": [
    "weather=\"sunny\"\n",
    "if weather==\"sunny\": #t will execute the block when the condition is true\n",
    "    print(\"I will paly cricket\")"
   ]
  },
  {
   "cell_type": "code",
   "execution_count": 3,
   "id": "a08532c5-7ea0-4d1b-a4f3-9a7e1fb27f05",
   "metadata": {},
   "outputs": [
    {
     "name": "stdout",
     "output_type": "stream",
     "text": [
      "i will eat pizza\n"
     ]
    }
   ],
   "source": [
    "food=\"pizza\"\n",
    "if food==\"pizza\":#t will execute the block when the condition is true\n",
    "    print(\"i will eat pizza\")"
   ]
  },
  {
   "cell_type": "code",
   "execution_count": 4,
   "id": "ba766b27-6f11-47ff-a9c8-5dab16145c44",
   "metadata": {},
   "outputs": [
    {
     "name": "stdout",
     "output_type": "stream",
     "text": [
      "i will  play cricket\n"
     ]
    }
   ],
   "source": [
    "#if else\n",
    "weather=\"sunny\"\n",
    "if weather==\"sunny\":# conditions is true so it will execute the if block.\n",
    "    print(\"i will  play cricket\")\n",
    "else:\n",
    "    print(\"i will watch web series\")"
   ]
  },
  {
   "cell_type": "code",
   "execution_count": 5,
   "id": "fbf99453-413b-43ae-83c2-41ce3d2fe957",
   "metadata": {},
   "outputs": [
    {
     "name": "stdout",
     "output_type": "stream",
     "text": [
      "I will eat both\n"
     ]
    }
   ],
   "source": [
    "food=\"burger\"\n",
    "if food==\"Pizza\":\n",
    "    print(\"I will not eat food\")\n",
    "else:\n",
    "    print(\"I will eat both\")# condtions is not true, execute the else block"
   ]
  },
  {
   "cell_type": "code",
   "execution_count": 13,
   "id": "c23ee17a-108e-4da3-a3dc-2177cb6b7f1a",
   "metadata": {},
   "outputs": [
    {
     "name": "stdout",
     "output_type": "stream",
     "text": [
      "grade b\n"
     ]
    }
   ],
   "source": [
    "#elif \n",
    "score= 85\n",
    "if score>= 95:\n",
    "    print(\"grade A\")\n",
    "elif(80<=score<90):\n",
    "    print(\"grade b\")\n",
    "elif(70<=score<80):\n",
    "    print(\"grade c\")\n",
    "else:\n",
    "    print(\"grade D\")"
   ]
  },
  {
   "cell_type": "code",
   "execution_count": 15,
   "id": "24b1fff1-eaa7-4788-bf60-6c676b411df2",
   "metadata": {},
   "outputs": [
    {
     "name": "stdout",
     "output_type": "stream",
     "text": [
      "group d\n"
     ]
    }
   ],
   "source": [
    "student=55\n",
    "if student>= 75:\n",
    "    print(\"group a\")\n",
    "elif(60<=student<70):\n",
    "    print(\"group b\")\n",
    "elif(60<=student<50):\n",
    "    print(\"group c\")\n",
    "else:\n",
    "    print(\"group d\")"
   ]
  },
  {
   "cell_type": "code",
   "execution_count": 5,
   "id": "35d788cb-51e5-45cf-ae47-e72545b897ad",
   "metadata": {},
   "outputs": [
    {
     "name": "stdin",
     "output_type": "stream",
     "text": [
      "Please enter your name vikas\n",
      "Please enter your email vik@\n",
      "Please eneter your password aaaaaaaaa\n"
     ]
    },
    {
     "name": "stdout",
     "output_type": "stream",
     "text": [
      "Login/registration is successfull\n"
     ]
    }
   ],
   "source": [
    "name = input(\"Please enter your name\")\n",
    "email = input(\"Please enter your email\")\n",
    "password = input(\"Please eneter your password\")\n",
    "\n",
    "if name == \"\":\n",
    "    print(\"Please enter a valid name, can not be empty\")\n",
    "else:\n",
    "    if \"@\" not in email:\n",
    "        print(\"Please enter a valid email\")\n",
    "    else:\n",
    "        if len(password) < 0:\n",
    "            print(\"No password entered, pls provide a valid password\")\n",
    "        else:\n",
    "            print(\"Login/registration is successfull\")"
   ]
  },
  {
   "cell_type": "code",
   "execution_count": 6,
   "id": "788c0ad2-c103-4167-a6f3-d96b3536f2e5",
   "metadata": {},
   "outputs": [
    {
     "name": "stdin",
     "output_type": "stream",
     "text": [
      "Enter a no 1000\n"
     ]
    },
    {
     "name": "stdout",
     "output_type": "stream",
     "text": [
      "The no is greater than 100\n"
     ]
    }
   ],
   "source": [
    "a = int(input(\"Enter a no\"))\n",
    "if a >= 100:\n",
    "    print(\"The no is greater than 100\")\n",
    "elif 0<=a<100:\n",
    "    print(\"The no is greater than 0 and less than 100\")\n",
    "else:\n",
    "    print(\"This is a negative no\")"
   ]
  },
  {
   "cell_type": "code",
   "execution_count": null,
   "id": "732e9459-5e72-484e-ad78-a639c94937ef",
   "metadata": {},
   "outputs": [],
   "source": []
  }
 ],
 "metadata": {
  "kernelspec": {
   "display_name": "Python 3 (ipykernel)",
   "language": "python",
   "name": "python3"
  },
  "language_info": {
   "codemirror_mode": {
    "name": "ipython",
    "version": 3
   },
   "file_extension": ".py",
   "mimetype": "text/x-python",
   "name": "python",
   "nbconvert_exporter": "python",
   "pygments_lexer": "ipython3",
   "version": "3.12.4"
  }
 },
 "nbformat": 4,
 "nbformat_minor": 5
}
