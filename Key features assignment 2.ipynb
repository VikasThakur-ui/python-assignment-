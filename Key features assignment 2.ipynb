{
 "cells": [
  {
   "cell_type": "code",
   "execution_count": null,
   "id": "56df3a07-fe00-4217-9b30-3271326ae38a",
   "metadata": {},
   "outputs": [],
   "source": [
    "# some example of list data type:-"
   ]
  },
  {
   "cell_type": "code",
   "execution_count": 2,
   "id": "e27b8726-ade7-4a74-99cb-fd8ef6eac49c",
   "metadata": {},
   "outputs": [
    {
     "data": {
      "text/plain": [
       "[1, 2, 34, 56, 'apple', 'tomato', True, False]"
      ]
     },
     "execution_count": 2,
     "metadata": {},
     "output_type": "execute_result"
    }
   ],
   "source": [
    "a=[1,2,34,56, \"apple\",\"tomato\",True,False]\n",
    "a"
   ]
  },
  {
   "cell_type": "code",
   "execution_count": 3,
   "id": "dc8915e2-d701-440a-8e56-70f5272c4b98",
   "metadata": {},
   "outputs": [
    {
     "data": {
      "text/plain": [
       "list"
      ]
     },
     "execution_count": 3,
     "metadata": {},
     "output_type": "execute_result"
    }
   ],
   "source": [
    "type(a)"
   ]
  },
  {
   "cell_type": "code",
   "execution_count": 6,
   "id": "abc08ea5-e0b0-4d7c-bfb8-6c7f12f05727",
   "metadata": {},
   "outputs": [],
   "source": [
    "a.append(\"orange\")"
   ]
  },
  {
   "cell_type": "code",
   "execution_count": 7,
   "id": "47b94b7b-8c9b-46e8-8f6a-82412e2c5056",
   "metadata": {},
   "outputs": [
    {
     "data": {
      "text/plain": [
       "[1, 2, 34, 56, 'apple', 'tomato', True, False, 'orange', 'orange']"
      ]
     },
     "execution_count": 7,
     "metadata": {},
     "output_type": "execute_result"
    }
   ],
   "source": [
    "a"
   ]
  },
  {
   "cell_type": "code",
   "execution_count": 10,
   "id": "a76709b9-b221-4624-be7d-4c1e1c0bd36f",
   "metadata": {},
   "outputs": [],
   "source": [
    "a.append(\"vikas\")"
   ]
  },
  {
   "cell_type": "code",
   "execution_count": 11,
   "id": "7c8a1635-77c9-4fcc-9c6b-120a662ff032",
   "metadata": {},
   "outputs": [
    {
     "data": {
      "text/plain": [
       "[1, 2, 34, 56, 'apple', 'tomato', True, False, 'orange', 'orange', 'vikas']"
      ]
     },
     "execution_count": 11,
     "metadata": {},
     "output_type": "execute_result"
    }
   ],
   "source": [
    "a"
   ]
  },
  {
   "cell_type": "code",
   "execution_count": null,
   "id": "ce887092-fd39-40e9-b60b-832fde125e4c",
   "metadata": {},
   "outputs": [],
   "source": [
    "#list are mutable , so we can the add the things in the lists."
   ]
  },
  {
   "cell_type": "code",
   "execution_count": 12,
   "id": "bdce3d14-3c14-4f81-8f90-d22d487b1a9d",
   "metadata": {},
   "outputs": [
    {
     "data": {
      "text/plain": [
       "[1, 2, 34, 56, 'apple', 'tomato', True, False, 'orange', 'orange']"
      ]
     },
     "execution_count": 12,
     "metadata": {},
     "output_type": "execute_result"
    }
   ],
   "source": [
    "a.remove(\"vikas\")\n",
    "a"
   ]
  },
  {
   "cell_type": "code",
   "execution_count": 15,
   "id": "b1d06aab-4ccf-4310-99f6-1a25f148a65a",
   "metadata": {},
   "outputs": [
    {
     "data": {
      "text/plain": [
       "[1, 2, 34, 56, 'apple', 'tomato', True, False, 'orange']"
      ]
     },
     "execution_count": 15,
     "metadata": {},
     "output_type": "execute_result"
    }
   ],
   "source": [
    "a.remove(\"orange\")\n",
    "a"
   ]
  },
  {
   "cell_type": "code",
   "execution_count": 1,
   "id": "7e856b41-9285-45bc-866d-9a59f6d02acc",
   "metadata": {},
   "outputs": [],
   "source": [
    "# remove the data or valuve from the list can be done as lists are mutable."
   ]
  },
  {
   "cell_type": "code",
   "execution_count": 3,
   "id": "33ca1127-8636-4214-80b6-0e494e31646f",
   "metadata": {},
   "outputs": [],
   "source": [
    "#insert - to insert objects before index"
   ]
  },
  {
   "cell_type": "code",
   "execution_count": 5,
   "id": "d1a1c333-4e53-444c-90a2-75f02e8c637c",
   "metadata": {},
   "outputs": [
    {
     "data": {
      "text/plain": [
       "['vikas', 'ada', 'khushi', 'rahul']"
      ]
     },
     "execution_count": 5,
     "metadata": {},
     "output_type": "execute_result"
    }
   ],
   "source": [
    "train_seat=[\"vikas\",\"ada\",\"rahul\"]\n",
    "train_seat.insert(2,\"khushi\")\n",
    "train_seat"
   ]
  },
  {
   "cell_type": "code",
   "execution_count": 7,
   "id": "d047f953-3135-46e4-b8c8-a2421f12ff0c",
   "metadata": {},
   "outputs": [],
   "source": [
    "#extend >> used to append elements from the another lists."
   ]
  },
  {
   "cell_type": "code",
   "execution_count": 15,
   "id": "018c03d9-aaa7-494f-bbb6-3c56922764ce",
   "metadata": {},
   "outputs": [
    {
     "data": {
      "text/plain": [
       "['apple', 'banana', 'mango', 'grapes', 'orange']"
      ]
     },
     "execution_count": 15,
     "metadata": {},
     "output_type": "execute_result"
    }
   ],
   "source": [
    "my_list=[\"apple\",\"banana\",\"mango\"]\n",
    "sister_list=[\"grapes\",\"orange\"]\n",
    "my_list.extend(sister_list)\n",
    "my_list\n"
   ]
  },
  {
   "cell_type": "code",
   "execution_count": 17,
   "id": "aec08405-b334-4f24-8289-ded3a7279163",
   "metadata": {},
   "outputs": [],
   "source": [
    "#concatenate >> obtaining a new string that contains both of the original strings.\n"
   ]
  },
  {
   "cell_type": "code",
   "execution_count": 19,
   "id": "5fd89de9-4c10-4122-9b91-e1fb79c7a1bc",
   "metadata": {},
   "outputs": [
    {
     "data": {
      "text/plain": [
       "['phone', 'charger', 'shoes', 'makeup_kit', 'dress']"
      ]
     },
     "execution_count": 19,
     "metadata": {},
     "output_type": "execute_result"
    }
   ],
   "source": [
    "my_bag=[\"phone\",\"charger\",\"shoes\"]\n",
    "sister_bag=[\"makeup_kit\",\"dress\",]\n",
    "my_bag+sister_bag"
   ]
  },
  {
   "cell_type": "code",
   "execution_count": 21,
   "id": "349137c4-a1d1-4e00-88a4-558c2abe713b",
   "metadata": {},
   "outputs": [],
   "source": [
    "#repatation operations>> to repeat the things "
   ]
  },
  {
   "cell_type": "code",
   "execution_count": 59,
   "id": "b78daebe-83ba-46c6-b85f-e7f8a3537f8d",
   "metadata": {},
   "outputs": [],
   "source": [
    "mail=\"(i am the star)n\"\n",
    "print=mail*3"
   ]
  },
  {
   "cell_type": "code",
   "execution_count": 69,
   "id": "f1d2db6d-52da-4128-ae32-8c56fa8351c2",
   "metadata": {},
   "outputs": [],
   "source": [
    "#deep copy and shallow copy"
   ]
  },
  {
   "cell_type": "code",
   "execution_count": 71,
   "id": "e8972d48-dc8a-4510-a9ce-62a3a10dd2cd",
   "metadata": {},
   "outputs": [],
   "source": [
    "#deep copy>>  will not change the vaule in other list"
   ]
  },
  {
   "cell_type": "code",
   "execution_count": 91,
   "id": "f4886935-ed44-4b23-a82c-2b9438250908",
   "metadata": {},
   "outputs": [
    {
     "data": {
      "text/plain": [
       "<function list.copy()>"
      ]
     },
     "execution_count": 91,
     "metadata": {},
     "output_type": "execute_result"
    }
   ],
   "source": [
    "grocery_list=[\"milk\",\"orange\",\"apple\",\"mago\"]\n",
    "a=grocery_list.copy\n",
    "a"
   ]
  },
  {
   "cell_type": "code",
   "execution_count": 125,
   "id": "9a4b7aba-6e89-49f3-b9ce-e8cc286dc112",
   "metadata": {},
   "outputs": [],
   "source": [
    "b=grocery_list.copy()\n",
    "b[0]=\"coke\""
   ]
  },
  {
   "cell_type": "code",
   "execution_count": 127,
   "id": "44c9ab6e-0d15-4b03-815c-3aed73e055ca",
   "metadata": {},
   "outputs": [
    {
     "data": {
      "text/plain": [
       "['coke', 'orange', 'apple', 'mago']"
      ]
     },
     "execution_count": 127,
     "metadata": {},
     "output_type": "execute_result"
    }
   ],
   "source": [
    "b"
   ]
  },
  {
   "cell_type": "code",
   "execution_count": 131,
   "id": "8a009918-bec6-46d1-b1ff-020f5e6524e2",
   "metadata": {},
   "outputs": [
    {
     "data": {
      "text/plain": [
       "['coke', 'orange', 'apple', 'mago']"
      ]
     },
     "execution_count": 131,
     "metadata": {},
     "output_type": "execute_result"
    }
   ],
   "source": [
    "b"
   ]
  },
  {
   "cell_type": "code",
   "execution_count": null,
   "id": "718c2ea3-38ee-4096-b7e0-084244bebf13",
   "metadata": {},
   "outputs": [],
   "source": [
    "# value does  not change in the another list "
   ]
  },
  {
   "cell_type": "code",
   "execution_count": 129,
   "id": "4e1fdcbe-476b-44ef-bc3b-628c251c3f4f",
   "metadata": {},
   "outputs": [
    {
     "data": {
      "text/plain": [
       "['cake', 'orange', 'apple', 'mago']"
      ]
     },
     "execution_count": 129,
     "metadata": {},
     "output_type": "execute_result"
    }
   ],
   "source": [
    "grocery_list"
   ]
  },
  {
   "cell_type": "code",
   "execution_count": null,
   "id": "25d7e2b1-9397-47e3-8ae6-6de9ef264b98",
   "metadata": {},
   "outputs": [],
   "source": [
    "#shallow copy >> value will change with change in the other list."
   ]
  },
  {
   "cell_type": "code",
   "execution_count": 109,
   "id": "0a1e3707-ce97-4fa7-8116-12aa693f7366",
   "metadata": {},
   "outputs": [
    {
     "data": {
      "text/plain": [
       "['milk', 'orange', 'apple', 'mago']"
      ]
     },
     "execution_count": 109,
     "metadata": {},
     "output_type": "execute_result"
    }
   ],
   "source": [
    "grocery_list=[\"milk\",\"orange\",\"apple\",\"mago\"]\n",
    "b=grocery_list\n",
    "b"
   ]
  },
  {
   "cell_type": "code",
   "execution_count": 111,
   "id": "78b83d7e-7735-4cbe-9a69-fa5b6c52c325",
   "metadata": {},
   "outputs": [
    {
     "data": {
      "text/plain": [
       "['milk', 'orange', 'apple', 'mago']"
      ]
     },
     "execution_count": 111,
     "metadata": {},
     "output_type": "execute_result"
    }
   ],
   "source": [
    "b"
   ]
  },
  {
   "cell_type": "code",
   "execution_count": 113,
   "id": "46799728-db01-423d-b58e-98de1c7c09ea",
   "metadata": {},
   "outputs": [
    {
     "data": {
      "text/plain": [
       "['milk', 'orange', 'apple', 'mago']"
      ]
     },
     "execution_count": 113,
     "metadata": {},
     "output_type": "execute_result"
    }
   ],
   "source": [
    "grocery_list"
   ]
  },
  {
   "cell_type": "code",
   "execution_count": 119,
   "id": "e9f71b25-85bf-48e8-b315-d222b07dd930",
   "metadata": {},
   "outputs": [
    {
     "data": {
      "text/plain": [
       "['cake', 'orange', 'apple', 'mago']"
      ]
     },
     "execution_count": 119,
     "metadata": {},
     "output_type": "execute_result"
    }
   ],
   "source": [
    "b[0]=\"cake\"\n",
    "b"
   ]
  },
  {
   "cell_type": "code",
   "execution_count": 121,
   "id": "6530f4b8-580f-40bb-9088-8871aa6e81a9",
   "metadata": {},
   "outputs": [
    {
     "data": {
      "text/plain": [
       "['cake', 'orange', 'apple', 'mago']"
      ]
     },
     "execution_count": 121,
     "metadata": {},
     "output_type": "execute_result"
    }
   ],
   "source": [
    "b"
   ]
  },
  {
   "cell_type": "code",
   "execution_count": 123,
   "id": "7d7ea82a-e8f5-4eef-b028-5e44a87fe2f3",
   "metadata": {},
   "outputs": [
    {
     "data": {
      "text/plain": [
       "['cake', 'orange', 'apple', 'mago']"
      ]
     },
     "execution_count": 123,
     "metadata": {},
     "output_type": "execute_result"
    }
   ],
   "source": [
    "grocery_list"
   ]
  },
  {
   "cell_type": "code",
   "execution_count": 133,
   "id": "b9bab585-53e9-4d92-80ca-af91129b4527",
   "metadata": {},
   "outputs": [],
   "source": [
    "#sorting_list"
   ]
  },
  {
   "cell_type": "code",
   "execution_count": 135,
   "id": "2d0f72c1-b17b-41f1-9852-180337afc88b",
   "metadata": {},
   "outputs": [
    {
     "data": {
      "text/plain": [
       "['diljit', 'guru', 'honey singh', 'kk']"
      ]
     },
     "execution_count": 135,
     "metadata": {},
     "output_type": "execute_result"
    }
   ],
   "source": [
    "singer_list=[\"honey singh\",\"kk\",\"guru\",\"diljit\"]\n",
    "sorted(singer_list)"
   ]
  },
  {
   "cell_type": "code",
   "execution_count": null,
   "id": "d2afdb4c-149c-4e86-b1e9-621775b5bab5",
   "metadata": {},
   "outputs": [],
   "source": []
  }
 ],
 "metadata": {
  "kernelspec": {
   "display_name": "Python 3 (ipykernel)",
   "language": "python",
   "name": "python3"
  },
  "language_info": {
   "codemirror_mode": {
    "name": "ipython",
    "version": 3
   },
   "file_extension": ".py",
   "mimetype": "text/x-python",
   "name": "python",
   "nbconvert_exporter": "python",
   "pygments_lexer": "ipython3",
   "version": "3.12.4"
  }
 },
 "nbformat": 4,
 "nbformat_minor": 5
}
