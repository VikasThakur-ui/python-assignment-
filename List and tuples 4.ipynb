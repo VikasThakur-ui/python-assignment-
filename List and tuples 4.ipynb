{
 "cells": [
  {
   "cell_type": "code",
   "execution_count": 94,
   "id": "6669c775-006c-47cd-ac81-f558d01c0044",
   "metadata": {},
   "outputs": [],
   "source": [
    "#list"
   ]
  },
  {
   "cell_type": "code",
   "execution_count": 172,
   "id": "af690829-eccc-40f2-8817-4deb3135df48",
   "metadata": {},
   "outputs": [
    {
     "data": {
      "text/plain": [
       "list"
      ]
     },
     "execution_count": 172,
     "metadata": {},
     "output_type": "execute_result"
    }
   ],
   "source": [
    "book_list=[\"sicnece\",\"history\",\"maths\",\"sst\"]\n",
    "book_list\n",
    "type(book_list)"
   ]
  },
  {
   "cell_type": "code",
   "execution_count": 136,
   "id": "fdb0cec1-3af3-4bbb-adf0-ca8937714d99",
   "metadata": {},
   "outputs": [
    {
     "data": {
      "text/plain": [
       "['sicnece', 'history', 'maths', 'sst']"
      ]
     },
     "execution_count": 136,
     "metadata": {},
     "output_type": "execute_result"
    }
   ],
   "source": [
    "book_list=[\"sicnece\",\"history\",\"maths\",\"sst\"]\n",
    "book_list"
   ]
  },
  {
   "cell_type": "code",
   "execution_count": 140,
   "id": "e14ab4a5-f93a-4d17-b1be-13b50500ff26",
   "metadata": {},
   "outputs": [
    {
     "data": {
      "text/plain": [
       "['sicnece', 'history', 'maths', 'sst', 'biology']"
      ]
     },
     "execution_count": 140,
     "metadata": {},
     "output_type": "execute_result"
    }
   ],
   "source": [
    "book_list.append(\"biology\")\n",
    "book_list"
   ]
  },
  {
   "cell_type": "code",
   "execution_count": 142,
   "id": "d382f4bc-693f-486c-958a-896eca0df316",
   "metadata": {},
   "outputs": [
    {
     "data": {
      "text/plain": [
       "['sicnece', 'history', 'sst', 'biology']"
      ]
     },
     "execution_count": 142,
     "metadata": {},
     "output_type": "execute_result"
    }
   ],
   "source": [
    "book_list.remove(\"maths\")\n",
    "book_list"
   ]
  },
  {
   "cell_type": "code",
   "execution_count": null,
   "id": "74f375a1-61bb-4f33-b5d4-7707e8524bf9",
   "metadata": {},
   "outputs": [],
   "source": [
    "#to change the value >> list is mutable "
   ]
  },
  {
   "cell_type": "code",
   "execution_count": 146,
   "id": "390a550b-d3ef-484e-aaf7-1660ff8b63a4",
   "metadata": {},
   "outputs": [
    {
     "data": {
      "text/plain": [
       "['(scinece)', 'english', 'g.k']"
      ]
     },
     "execution_count": 146,
     "metadata": {},
     "output_type": "execute_result"
    }
   ],
   "source": [
    "book_list=[\"hindi\",\"english\",\"g.k\"]\n",
    "book_list[0]=\"(scinece)\"\n",
    "book_list"
   ]
  },
  {
   "cell_type": "code",
   "execution_count": 148,
   "id": "20f3ee3e-22e8-405e-830b-aa1913d4b4c3",
   "metadata": {},
   "outputs": [],
   "source": [
    "#Tuples >> This is are immutable >> cannot be changed "
   ]
  },
  {
   "cell_type": "code",
   "execution_count": 150,
   "id": "61091b88-2a18-4698-a738-4018725ef63f",
   "metadata": {},
   "outputs": [],
   "source": [
    "# most tuples are used in id number , atm number, email id etc."
   ]
  },
  {
   "cell_type": "code",
   "execution_count": 158,
   "id": "6056d20c-a442-420f-9b91-a7c868b892ac",
   "metadata": {},
   "outputs": [
    {
     "data": {
      "text/plain": [
       "(1, 23, 4, 5, 6, 7, 'vikas', 'sunny', (3+5j))"
      ]
     },
     "execution_count": 158,
     "metadata": {},
     "output_type": "execute_result"
    }
   ],
   "source": [
    "t=(1,23,4,5,6,7,\"vikas\",\"sunny\",3+5j)\n",
    "t"
   ]
  },
  {
   "cell_type": "code",
   "execution_count": 160,
   "id": "c5d4e208-9bde-43d5-8c89-4d85dee84670",
   "metadata": {},
   "outputs": [],
   "source": [
    "# tuples can store hetrogenous"
   ]
  },
  {
   "cell_type": "code",
   "execution_count": 170,
   "id": "b2c4c43c-0096-4a3b-8ca6-820db48bc23c",
   "metadata": {},
   "outputs": [
    {
     "data": {
      "text/plain": [
       "tuple"
      ]
     },
     "execution_count": 170,
     "metadata": {},
     "output_type": "execute_result"
    }
   ],
   "source": [
    "emp_id=(2345,4567,9087,2345)\n",
    "emp_id\n",
    "type (emp_id)"
   ]
  },
  {
   "cell_type": "code",
   "execution_count": 180,
   "id": "71e137a1-9494-4b69-b844-bb242ef560c8",
   "metadata": {},
   "outputs": [
    {
     "ename": "AttributeError",
     "evalue": "'tuple' object has no attribute 'append'",
     "output_type": "error",
     "traceback": [
      "\u001b[1;31m---------------------------------------------------------------------------\u001b[0m",
      "\u001b[1;31mAttributeError\u001b[0m                            Traceback (most recent call last)",
      "Cell \u001b[1;32mIn[180], line 2\u001b[0m\n\u001b[0;32m      1\u001b[0m emp_id\u001b[38;5;241m=\u001b[39m(\u001b[38;5;241m2345\u001b[39m,\u001b[38;5;241m4567\u001b[39m,\u001b[38;5;241m9087\u001b[39m,\u001b[38;5;241m2345\u001b[39m)\n\u001b[1;32m----> 2\u001b[0m emp_id\u001b[38;5;241m.\u001b[39mappend(\u001b[38;5;241m1122\u001b[39m)\n\u001b[0;32m      3\u001b[0m emp_id\n",
      "\u001b[1;31mAttributeError\u001b[0m: 'tuple' object has no attribute 'append'"
     ]
    }
   ],
   "source": [
    "emp_id=(2345,4567,9087,2345)\n",
    "emp_id.append(1122)\n",
    "emp_id"
   ]
  },
  {
   "cell_type": "code",
   "execution_count": 188,
   "id": "e5c37a6a-89d3-4644-a0bc-9fd0ce61559f",
   "metadata": {},
   "outputs": [
    {
     "data": {
      "text/plain": [
       "('vikas', 'sunny', 'virat', 'rohit')"
      ]
     },
     "execution_count": 188,
     "metadata": {},
     "output_type": "execute_result"
    }
   ],
   "source": [
    "emp_id"
   ]
  },
  {
   "cell_type": "code",
   "execution_count": 182,
   "id": "e9258aa2-c3af-46c6-abf4-16c1fcf39ff6",
   "metadata": {},
   "outputs": [],
   "source": [
    "# it means we cannot add or remove the things in tuples"
   ]
  },
  {
   "cell_type": "code",
   "execution_count": 184,
   "id": "c825fc1a-9250-484c-8c5c-b97d2f447988",
   "metadata": {},
   "outputs": [
    {
     "ename": "AttributeError",
     "evalue": "'tuple' object has no attribute 'remove'",
     "output_type": "error",
     "traceback": [
      "\u001b[1;31m---------------------------------------------------------------------------\u001b[0m",
      "\u001b[1;31mAttributeError\u001b[0m                            Traceback (most recent call last)",
      "Cell \u001b[1;32mIn[184], line 2\u001b[0m\n\u001b[0;32m      1\u001b[0m emp_id\u001b[38;5;241m=\u001b[39m(\u001b[38;5;124m\"\u001b[39m\u001b[38;5;124mvikas\u001b[39m\u001b[38;5;124m\"\u001b[39m,\u001b[38;5;124m\"\u001b[39m\u001b[38;5;124msunny\u001b[39m\u001b[38;5;124m\"\u001b[39m,\u001b[38;5;124m\"\u001b[39m\u001b[38;5;124mvirat\u001b[39m\u001b[38;5;124m\"\u001b[39m,\u001b[38;5;124m\"\u001b[39m\u001b[38;5;124mrohit\u001b[39m\u001b[38;5;124m\"\u001b[39m)\n\u001b[1;32m----> 2\u001b[0m emp_id\u001b[38;5;241m.\u001b[39mremove(\u001b[38;5;124m\"\u001b[39m\u001b[38;5;124msunny\u001b[39m\u001b[38;5;124m\"\u001b[39m)\n\u001b[0;32m      3\u001b[0m emp_id\n",
      "\u001b[1;31mAttributeError\u001b[0m: 'tuple' object has no attribute 'remove'"
     ]
    }
   ],
   "source": [
    "emp_id=(\"vikas\",\"sunny\",\"virat\",\"rohit\")\n",
    "emp_id.remove(\"sunny\")\n",
    "emp_id"
   ]
  },
  {
   "cell_type": "code",
   "execution_count": 186,
   "id": "ba988c26-9ae0-4a91-8c05-fa27a3e8cf35",
   "metadata": {},
   "outputs": [
    {
     "data": {
      "text/plain": [
       "('vikas', 'sunny', 'virat', 'rohit')"
      ]
     },
     "execution_count": 186,
     "metadata": {},
     "output_type": "execute_result"
    }
   ],
   "source": [
    "emp_id"
   ]
  },
  {
   "cell_type": "code",
   "execution_count": 190,
   "id": "4384cae1-6303-4e48-b559-d8ad9da2ec2d",
   "metadata": {},
   "outputs": [],
   "source": [
    "# this not an error, to show the result I have just give an example that tuples cannot be add ,change , this are immutable. So please don't cut marks."
   ]
  },
  {
   "cell_type": "code",
   "execution_count": null,
   "id": "34f8ab89-6716-42bf-b1e5-e919507bf551",
   "metadata": {},
   "outputs": [],
   "source": []
  }
 ],
 "metadata": {
  "kernelspec": {
   "display_name": "Python 3 (ipykernel)",
   "language": "python",
   "name": "python3"
  },
  "language_info": {
   "codemirror_mode": {
    "name": "ipython",
    "version": 3
   },
   "file_extension": ".py",
   "mimetype": "text/x-python",
   "name": "python",
   "nbconvert_exporter": "python",
   "pygments_lexer": "ipython3",
   "version": "3.12.4"
  }
 },
 "nbformat": 4,
 "nbformat_minor": 5
}
