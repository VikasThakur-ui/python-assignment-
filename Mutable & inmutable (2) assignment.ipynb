{
 "cells": [
  {
   "cell_type": "raw",
   "id": "e6a5c62e-a314-40d2-958b-735a844bcbd9",
   "metadata": {},
   "source": [
    "#objects/container whose state or value can be changed after they are created are\n",
    "#called as mutable objects or container, \n",
    "#list is a type of mutable object/supports item assignment"
   ]
  },
  {
   "cell_type": "code",
   "execution_count": 1,
   "id": "91448a11-c81d-4d3c-af53-788cc0ca90b1",
   "metadata": {},
   "outputs": [],
   "source": [
    "#mutability "
   ]
  },
  {
   "cell_type": "code",
   "execution_count": 3,
   "id": "c907361f-b3c4-4cfc-af4f-3b06860a87fe",
   "metadata": {},
   "outputs": [
    {
     "data": {
      "text/plain": [
       "2"
      ]
     },
     "execution_count": 3,
     "metadata": {},
     "output_type": "execute_result"
    }
   ],
   "source": [
    "a=2\n",
    "a"
   ]
  },
  {
   "cell_type": "code",
   "execution_count": 14,
   "id": "197c5d2f-3fa4-4206-a371-0d07a1378a52",
   "metadata": {},
   "outputs": [
    {
     "data": {
      "text/plain": [
       "['vikas', 23, 45, 78, 5.2, 'Pw skills']"
      ]
     },
     "execution_count": 14,
     "metadata": {},
     "output_type": "execute_result"
    }
   ],
   "source": [
    "list_count=[\"vikas\", 23, 45, 78, 5.2,\"Pw skills\"]\n",
    "list_count"
   ]
  },
  {
   "cell_type": "code",
   "execution_count": 19,
   "id": "78e5a6c9-2093-43dc-804f-ffe652c3a03c",
   "metadata": {},
   "outputs": [
    {
     "data": {
      "text/plain": [
       "'vikas'"
      ]
     },
     "execution_count": 19,
     "metadata": {},
     "output_type": "execute_result"
    }
   ],
   "source": [
    "list_count[0]"
   ]
  },
  {
   "cell_type": "code",
   "execution_count": 20,
   "id": "84953d5c-705f-406e-bc49-57b641c5335a",
   "metadata": {},
   "outputs": [
    {
     "data": {
      "text/plain": [
       "23"
      ]
     },
     "execution_count": 20,
     "metadata": {},
     "output_type": "execute_result"
    }
   ],
   "source": [
    "list_count[-5]"
   ]
  },
  {
   "cell_type": "code",
   "execution_count": 21,
   "id": "46cb1248-1188-4ffb-b4a8-9dff0daf0e6e",
   "metadata": {},
   "outputs": [
    {
     "data": {
      "text/plain": [
       "list"
      ]
     },
     "execution_count": 21,
     "metadata": {},
     "output_type": "execute_result"
    }
   ],
   "source": [
    "type(list_count)"
   ]
  },
  {
   "cell_type": "code",
   "execution_count": 23,
   "id": "cf3813c3-15d3-44dc-81ed-c1146effb4eb",
   "metadata": {},
   "outputs": [
    {
     "data": {
      "text/plain": [
       "['vikas', 23, 45, 78, 5.2, ' Jaipur']"
      ]
     },
     "execution_count": 23,
     "metadata": {},
     "output_type": "execute_result"
    }
   ],
   "source": [
    "#mulability\n",
    "list_count[5]=\" Jaipur\"\n",
    "list_count # it has been changed from pwskills to jaipur "
   ]
  },
  {
   "cell_type": "code",
   "execution_count": 39,
   "id": "f8c90c8d-0519-45b9-84e1-54df19d5e0c0",
   "metadata": {},
   "outputs": [
    {
     "data": {
      "text/plain": [
       "[1, 2, 3, 4, 5, 'vikas', 'thakur']"
      ]
     },
     "execution_count": 39,
     "metadata": {},
     "output_type": "execute_result"
    }
   ],
   "source": [
    "list_a=[1,2,3,4,5,\"vikas\",\"thakur\"]\n",
    "list_a"
   ]
  },
  {
   "cell_type": "code",
   "execution_count": 40,
   "id": "6a0cbef3-2529-4e42-abdd-962f7eca9760",
   "metadata": {},
   "outputs": [
    {
     "data": {
      "text/plain": [
       "[100, 2, 3, 4, 5, 'vikas', 'thakur']"
      ]
     },
     "execution_count": 40,
     "metadata": {},
     "output_type": "execute_result"
    }
   ],
   "source": [
    "list_a[0]=100\n",
    "list_a"
   ]
  },
  {
   "cell_type": "raw",
   "id": "89c2b158-5d9b-42a6-be9c-d6b6695df265",
   "metadata": {},
   "source": [
    "#objects/container whose state or value can not be changed after they are created are\n",
    "#called as immutable objects or container, \n",
    "#string is a type of immutable object/ doesn't supports item assignment"
   ]
  },
  {
   "cell_type": "code",
   "execution_count": null,
   "id": "1931f048-1b99-4c37-8bff-6cfbd5754b31",
   "metadata": {},
   "outputs": [],
   "source": [
    "#immutablity >> strings are immutabliity in nature and can not be changed "
   ]
  },
  {
   "cell_type": "code",
   "execution_count": 41,
   "id": "b1e7d5ca-7086-4117-ad55-5cdf620e3b9f",
   "metadata": {},
   "outputs": [
    {
     "data": {
      "text/plain": [
       "'k'"
      ]
     },
     "execution_count": 41,
     "metadata": {},
     "output_type": "execute_result"
    }
   ],
   "source": [
    "b=\"vikas_thakur\"\n",
    "b[2]"
   ]
  },
  {
   "cell_type": "code",
   "execution_count": 43,
   "id": "47b42958-0605-4119-80ea-ea66218048e9",
   "metadata": {},
   "outputs": [
    {
     "data": {
      "text/plain": [
       "str"
      ]
     },
     "execution_count": 43,
     "metadata": {},
     "output_type": "execute_result"
    }
   ],
   "source": [
    "type(b)"
   ]
  },
  {
   "cell_type": "code",
   "execution_count": null,
   "id": "e7759376-6168-45c5-9d4c-a0bd9f5413c8",
   "metadata": {},
   "outputs": [],
   "source": []
  }
 ],
 "metadata": {
  "kernelspec": {
   "display_name": "Python 3 (ipykernel)",
   "language": "python",
   "name": "python3"
  },
  "language_info": {
   "codemirror_mode": {
    "name": "ipython",
    "version": 3
   },
   "file_extension": ".py",
   "mimetype": "text/x-python",
   "name": "python",
   "nbconvert_exporter": "python",
   "pygments_lexer": "ipython3",
   "version": "3.10.8"
  }
 },
 "nbformat": 4,
 "nbformat_minor": 5
}
