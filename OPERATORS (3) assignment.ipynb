{
 "cells": [
  {
   "cell_type": "code",
   "execution_count": 5,
   "id": "329625e6-f516-4974-8918-de6c88f05d36",
   "metadata": {},
   "outputs": [
    {
     "data": {
      "text/plain": [
       "12"
      ]
     },
     "execution_count": 5,
     "metadata": {},
     "output_type": "execute_result"
    }
   ],
   "source": [
    "#artimatic operators \n",
    "#addition \n",
    "a=7\n",
    "b=5\n",
    "a+b # using addition operators to add the two numbers."
   ]
  },
  {
   "cell_type": "code",
   "execution_count": 3,
   "id": "fa102d21-cd14-4b34-b02e-aa9b20cc17a1",
   "metadata": {},
   "outputs": [
    {
     "data": {
      "text/plain": [
       "'akshay kumar'"
      ]
     },
     "execution_count": 3,
     "metadata": {},
     "output_type": "execute_result"
    }
   ],
   "source": [
    "a=\"akshay\"\n",
    "b=\" kumar\"\n",
    "a+b"
   ]
  },
  {
   "cell_type": "code",
   "execution_count": 4,
   "id": "0d85f525-d96d-48b2-b788-6ab7529bdbce",
   "metadata": {},
   "outputs": [],
   "source": [
    "#subscration operators \n",
    "#(-)\n"
   ]
  },
  {
   "cell_type": "code",
   "execution_count": 5,
   "id": "08bf63f3-97e3-47e6-b35f-5e9d232e0d3a",
   "metadata": {},
   "outputs": [
    {
     "data": {
      "text/plain": [
       "60"
      ]
     },
     "execution_count": 5,
     "metadata": {},
     "output_type": "execute_result"
    }
   ],
   "source": [
    "a=100\n",
    "b=40\n",
    "a-b"
   ]
  },
  {
   "cell_type": "code",
   "execution_count": 7,
   "id": "a4549f5c-0baa-4037-8ecb-a83524efa383",
   "metadata": {},
   "outputs": [],
   "source": [
    "#only number or integers can be get less, no strings can be minus from each other"
   ]
  },
  {
   "cell_type": "code",
   "execution_count": 8,
   "id": "02da88f7-e34c-46bf-9e83-cbe2aca66bc7",
   "metadata": {},
   "outputs": [
    {
     "data": {
      "text/plain": [
       "-48"
      ]
     },
     "execution_count": 8,
     "metadata": {},
     "output_type": "execute_result"
    }
   ],
   "source": [
    "a=2\n",
    "b=50\n",
    "a-b"
   ]
  },
  {
   "cell_type": "code",
   "execution_count": 6,
   "id": "202f0d5b-7228-44a2-9c53-1117bb2ad207",
   "metadata": {},
   "outputs": [
    {
     "data": {
      "text/plain": [
       "95"
      ]
     },
     "execution_count": 6,
     "metadata": {},
     "output_type": "execute_result"
    }
   ],
   "source": [
    "100-5"
   ]
  },
  {
   "cell_type": "code",
   "execution_count": null,
   "id": "265bd2ca-9a53-459a-9fd8-da2785ac593c",
   "metadata": {},
   "outputs": [],
   "source": [
    "#multiplication(*)"
   ]
  },
  {
   "cell_type": "code",
   "execution_count": 9,
   "id": "3c78ab44-4d11-4cb3-8487-08fd571398c5",
   "metadata": {},
   "outputs": [
    {
     "data": {
      "text/plain": [
       "855"
      ]
     },
     "execution_count": 9,
     "metadata": {},
     "output_type": "execute_result"
    }
   ],
   "source": [
    "a=19\n",
    "b=45\n",
    "a*b"
   ]
  },
  {
   "cell_type": "code",
   "execution_count": 11,
   "id": "95bdba4a-d4e5-464e-82d2-6a6dcbae9cfd",
   "metadata": {},
   "outputs": [
    {
     "data": {
      "text/plain": [
       "236740"
      ]
     },
     "execution_count": 11,
     "metadata": {},
     "output_type": "execute_result"
    }
   ],
   "source": [
    "19*7*89*5*4"
   ]
  },
  {
   "cell_type": "code",
   "execution_count": null,
   "id": "03dfe293-52ce-4d92-9c7b-5f4ae14d75a6",
   "metadata": {},
   "outputs": [],
   "source": [
    "#inergers can be multiple into each other"
   ]
  },
  {
   "cell_type": "code",
   "execution_count": 9,
   "id": "132aa180-7e65-484a-bb6a-88dd47898376",
   "metadata": {},
   "outputs": [
    {
     "data": {
      "text/plain": [
       "964800"
      ]
     },
     "execution_count": 9,
     "metadata": {},
     "output_type": "execute_result"
    }
   ],
   "source": [
    "13400*72"
   ]
  },
  {
   "cell_type": "code",
   "execution_count": 12,
   "id": "67341c74-8f3e-40e0-880e-45efaf2cf4ad",
   "metadata": {},
   "outputs": [],
   "source": [
    "#divison operators"
   ]
  },
  {
   "cell_type": "code",
   "execution_count": 13,
   "id": "5ef19661-e4b4-4638-b294-ba79a1d4c2ba",
   "metadata": {},
   "outputs": [
    {
     "data": {
      "text/plain": [
       "5.0"
      ]
     },
     "execution_count": 13,
     "metadata": {},
     "output_type": "execute_result"
    }
   ],
   "source": [
    "a=45\n",
    "b=9\n",
    "a/b# a is divide with the b so the remainder is >>"
   ]
  },
  {
   "cell_type": "code",
   "execution_count": 15,
   "id": "3e283078-cb67-407b-be30-3c927f6f9d37",
   "metadata": {},
   "outputs": [
    {
     "data": {
      "text/plain": [
       "10.0"
      ]
     },
     "execution_count": 15,
     "metadata": {},
     "output_type": "execute_result"
    }
   ],
   "source": [
    "20/2"
   ]
  },
  {
   "cell_type": "code",
   "execution_count": 11,
   "id": "c576c6a9-23b3-426f-87ad-927ebb2067ac",
   "metadata": {},
   "outputs": [
    {
     "data": {
      "text/plain": [
       "5.25"
      ]
     },
     "execution_count": 11,
     "metadata": {},
     "output_type": "execute_result"
    }
   ],
   "source": [
    "21/4"
   ]
  },
  {
   "cell_type": "code",
   "execution_count": 12,
   "id": "f36e26e9-e514-46e2-8db7-328cdfe17f3d",
   "metadata": {},
   "outputs": [
    {
     "data": {
      "text/plain": [
       "4.0"
      ]
     },
     "execution_count": 12,
     "metadata": {},
     "output_type": "execute_result"
    }
   ],
   "source": [
    "20/5"
   ]
  },
  {
   "cell_type": "code",
   "execution_count": null,
   "id": "f993342c-ae7f-4a4b-8742-4882d3183623",
   "metadata": {},
   "outputs": [],
   "source": [
    "#modulus operator \n",
    "#this modulue is to show the remainder"
   ]
  },
  {
   "cell_type": "code",
   "execution_count": 17,
   "id": "ea7c8347-ba56-4189-9f2a-3088343aab40",
   "metadata": {},
   "outputs": [
    {
     "data": {
      "text/plain": [
       "1"
      ]
     },
     "execution_count": 17,
     "metadata": {},
     "output_type": "execute_result"
    }
   ],
   "source": [
    "a=21\n",
    "b=4\n",
    "a%b # we ccan able to see the remainder 1"
   ]
  },
  {
   "cell_type": "code",
   "execution_count": 18,
   "id": "448ed030-754d-41f3-b37a-b7d4f8a4cfa3",
   "metadata": {},
   "outputs": [
    {
     "data": {
      "text/plain": [
       "0"
      ]
     },
     "execution_count": 18,
     "metadata": {},
     "output_type": "execute_result"
    }
   ],
   "source": [
    "a=25\n",
    "b=5\n",
    "a%b"
   ]
  },
  {
   "cell_type": "code",
   "execution_count": null,
   "id": "b9e6fe84-c47a-48d7-b8af-b56f4a14b59f",
   "metadata": {},
   "outputs": [],
   "source": [
    "#to fide the cube(**)"
   ]
  },
  {
   "cell_type": "code",
   "execution_count": 19,
   "id": "f6c08236-6c54-4dfe-af5b-3fd3dd7bb2c3",
   "metadata": {},
   "outputs": [
    {
     "data": {
      "text/plain": [
       "256"
      ]
     },
     "execution_count": 19,
     "metadata": {},
     "output_type": "execute_result"
    }
   ],
   "source": [
    "a=2\n",
    "b=8\n",
    "a**b # so we can see that cube 0f 2 \n"
   ]
  },
  {
   "cell_type": "code",
   "execution_count": 20,
   "id": "81ce66b7-778b-4cdc-83fb-06a60a43fbc8",
   "metadata": {},
   "outputs": [
    {
     "data": {
      "text/plain": [
       "175921860444160000000000000000000000"
      ]
     },
     "execution_count": 20,
     "metadata": {},
     "output_type": "execute_result"
    }
   ],
   "source": [
    "a=40\n",
    "b=22\n",
    "a**b"
   ]
  },
  {
   "cell_type": "code",
   "execution_count": null,
   "id": "9cb89496-8578-4448-a7f8-6e839362b64d",
   "metadata": {},
   "outputs": [],
   "source": [
    "#floor operators \n",
    "# this is used to finf the nearest interger/ lower side so we can use the floor operators"
   ]
  },
  {
   "cell_type": "code",
   "execution_count": 23,
   "id": "5dfc54d4-eb31-476b-a999-161e93078484",
   "metadata": {},
   "outputs": [
    {
     "data": {
      "text/plain": [
       "1.6666666666666667"
      ]
     },
     "execution_count": 23,
     "metadata": {},
     "output_type": "execute_result"
    }
   ],
   "source": [
    "a=5\n",
    "b=3\n",
    "a/b"
   ]
  },
  {
   "cell_type": "code",
   "execution_count": 24,
   "id": "9f6e34c7-26dd-48f8-ab89-58f79b7e3171",
   "metadata": {},
   "outputs": [
    {
     "data": {
      "text/plain": [
       "1"
      ]
     },
     "execution_count": 24,
     "metadata": {},
     "output_type": "execute_result"
    }
   ],
   "source": [
    "5//3 # we can see that nearest integers is the 1"
   ]
  },
  {
   "cell_type": "code",
   "execution_count": 25,
   "id": "4d74afd5-e021-4b82-82fe-8df8cb30b3b9",
   "metadata": {},
   "outputs": [
    {
     "data": {
      "text/plain": [
       "1.5"
      ]
     },
     "execution_count": 25,
     "metadata": {},
     "output_type": "execute_result"
    }
   ],
   "source": [
    "a=3\n",
    "b=2\n",
    "a/b"
   ]
  },
  {
   "cell_type": "code",
   "execution_count": 26,
   "id": "87427919-711f-4a0f-9b73-11c01b716ddc",
   "metadata": {},
   "outputs": [
    {
     "data": {
      "text/plain": [
       "1"
      ]
     },
     "execution_count": 26,
     "metadata": {},
     "output_type": "execute_result"
    }
   ],
   "source": [
    "a//b"
   ]
  },
  {
   "cell_type": "code",
   "execution_count": 19,
   "id": "871d7b25-6beb-49dd-993c-42bb91e6cc5a",
   "metadata": {},
   "outputs": [
    {
     "data": {
      "text/plain": [
       "3"
      ]
     },
     "execution_count": 19,
     "metadata": {},
     "output_type": "execute_result"
    }
   ],
   "source": [
    "10//3"
   ]
  },
  {
   "cell_type": "code",
   "execution_count": 27,
   "id": "87c9688e-9eb7-4607-90c9-cf2d3618afe8",
   "metadata": {},
   "outputs": [],
   "source": [
    "# Comparsion operators \n",
    "# to compare two value return a boolen value"
   ]
  },
  {
   "cell_type": "code",
   "execution_count": 28,
   "id": "10117400-62bc-4ace-86c3-c4d6e00e0789",
   "metadata": {},
   "outputs": [
    {
     "data": {
      "text/plain": [
       "True"
      ]
     },
     "execution_count": 28,
     "metadata": {},
     "output_type": "execute_result"
    }
   ],
   "source": [
    "a=2\n",
    "b=2\n",
    "a==b #  in this a=b , so its show true "
   ]
  },
  {
   "cell_type": "code",
   "execution_count": 29,
   "id": "377dde3b-ea1f-4ba5-abb0-a39f301c109e",
   "metadata": {},
   "outputs": [
    {
     "data": {
      "text/plain": [
       "False"
      ]
     },
     "execution_count": 29,
     "metadata": {},
     "output_type": "execute_result"
    }
   ],
   "source": [
    "a=2\n",
    "b=3\n",
    "a==b # in this a is not equal b, shown false"
   ]
  },
  {
   "cell_type": "code",
   "execution_count": 30,
   "id": "bc3d0fa3-dda4-4ceb-bd7e-6977f78b7b55",
   "metadata": {},
   "outputs": [
    {
     "data": {
      "text/plain": [
       "True"
      ]
     },
     "execution_count": 30,
     "metadata": {},
     "output_type": "execute_result"
    }
   ],
   "source": [
    "a=\"vikas\"\n",
    "b=\"vikas\"\n",
    "a==b"
   ]
  },
  {
   "cell_type": "code",
   "execution_count": 31,
   "id": "90f113e5-e57f-4a27-824a-b7c4a122a3b4",
   "metadata": {},
   "outputs": [
    {
     "data": {
      "text/plain": [
       "True"
      ]
     },
     "execution_count": 31,
     "metadata": {},
     "output_type": "execute_result"
    }
   ],
   "source": [
    "# Not equal to \n",
    "a=100\n",
    "b=200\n",
    "a!=b # not !="
   ]
  },
  {
   "cell_type": "code",
   "execution_count": 33,
   "id": "5389de66-88ae-4ae3-9efc-1647e27c6f09",
   "metadata": {},
   "outputs": [],
   "source": [
    "#greather then \n",
    "#(>)"
   ]
  },
  {
   "cell_type": "code",
   "execution_count": 24,
   "id": "7c393a14-4e5d-4d5b-9e08-d00bd17ff337",
   "metadata": {},
   "outputs": [
    {
     "data": {
      "text/plain": [
       "True"
      ]
     },
     "execution_count": 24,
     "metadata": {},
     "output_type": "execute_result"
    }
   ],
   "source": [
    "10>2"
   ]
  },
  {
   "cell_type": "code",
   "execution_count": 34,
   "id": "ce8bf7f6-2e97-47c0-98c4-03244876730b",
   "metadata": {},
   "outputs": [
    {
     "data": {
      "text/plain": [
       "True"
      ]
     },
     "execution_count": 34,
     "metadata": {},
     "output_type": "execute_result"
    }
   ],
   "source": [
    "12>2"
   ]
  },
  {
   "cell_type": "code",
   "execution_count": 35,
   "id": "5a553207-7b00-4f88-b85b-2f4467e2d57d",
   "metadata": {},
   "outputs": [],
   "source": [
    "#less then \n",
    "#(<)"
   ]
  },
  {
   "cell_type": "code",
   "execution_count": 36,
   "id": "038f25e9-6ba9-49d6-a89c-a3e63168ca1b",
   "metadata": {},
   "outputs": [
    {
     "data": {
      "text/plain": [
       "True"
      ]
     },
     "execution_count": 36,
     "metadata": {},
     "output_type": "execute_result"
    }
   ],
   "source": [
    "a=23\n",
    "b=33\n",
    "a<b"
   ]
  },
  {
   "cell_type": "code",
   "execution_count": 37,
   "id": "ec43f180-243e-420a-be59-4c5e6d719eed",
   "metadata": {},
   "outputs": [],
   "source": [
    "#greather then or equal to\n",
    "#(>=)"
   ]
  },
  {
   "cell_type": "code",
   "execution_count": 2,
   "id": "da5b6c9e-ab3c-4b03-8f21-f4a2f85c5485",
   "metadata": {},
   "outputs": [
    {
     "data": {
      "text/plain": [
       "True"
      ]
     },
     "execution_count": 2,
     "metadata": {},
     "output_type": "execute_result"
    }
   ],
   "source": [
    "a=60\n",
    "b=55\n",
    "a>=b # a is grather than and equal to b"
   ]
  },
  {
   "cell_type": "code",
   "execution_count": 4,
   "id": "eb1addba-d161-4316-89c8-cd3152098609",
   "metadata": {},
   "outputs": [
    {
     "data": {
      "text/plain": [
       "True"
      ]
     },
     "execution_count": 4,
     "metadata": {},
     "output_type": "execute_result"
    }
   ],
   "source": [
    "age_a=35\n",
    "age_b=30\n",
    "age_a>=age_b"
   ]
  },
  {
   "cell_type": "code",
   "execution_count": 5,
   "id": "81a3ea5c-bc45-4366-9278-574d6d15fa22",
   "metadata": {},
   "outputs": [],
   "source": [
    "# less then or equal to \n",
    "#<="
   ]
  },
  {
   "cell_type": "code",
   "execution_count": 8,
   "id": "2da5d162-bbba-4b57-8655-39d8413fbad7",
   "metadata": {},
   "outputs": [
    {
     "data": {
      "text/plain": [
       "True"
      ]
     },
     "execution_count": 8,
     "metadata": {},
     "output_type": "execute_result"
    }
   ],
   "source": [
    "a=35\n",
    "b=45\n",
    "a<=b"
   ]
  },
  {
   "cell_type": "code",
   "execution_count": 13,
   "id": "96089c1f-ec6e-43d1-9c8d-001f10a08ab6",
   "metadata": {},
   "outputs": [
    {
     "data": {
      "text/plain": [
       "True"
      ]
     },
     "execution_count": 13,
     "metadata": {},
     "output_type": "execute_result"
    }
   ],
   "source": [
    "age_a=25\n",
    "age_b=45\n",
    "age_a<=age_b\n"
   ]
  },
  {
   "cell_type": "code",
   "execution_count": 1,
   "id": "6682b568-5b38-424b-be0e-a990bd41f5df",
   "metadata": {},
   "outputs": [],
   "source": [
    "#LOGICAL OPERATORS \n",
    "\n",
    "# i will after watching the videos.\n"
   ]
  },
  {
   "cell_type": "code",
   "execution_count": 2,
   "id": "0fb9f512-fb4c-40bf-8d06-a1385b1f627b",
   "metadata": {},
   "outputs": [],
   "source": [
    "#and "
   ]
  },
  {
   "cell_type": "code",
   "execution_count": 3,
   "id": "efc5fe5c-0d38-4cda-8050-38e93681574d",
   "metadata": {},
   "outputs": [],
   "source": [
    "#Assignemnet Operators"
   ]
  },
  {
   "cell_type": "code",
   "execution_count": 4,
   "id": "f34b78a3-d73f-4852-a6ed-35ea4eb8fa9b",
   "metadata": {},
   "outputs": [
    {
     "data": {
      "text/plain": [
       "10"
      ]
     },
     "execution_count": 4,
     "metadata": {},
     "output_type": "execute_result"
    }
   ],
   "source": [
    "a=10\n",
    "a"
   ]
  },
  {
   "cell_type": "code",
   "execution_count": 6,
   "id": "0a5e2b3f-2646-4d7f-b2c4-f29d74ceb32d",
   "metadata": {},
   "outputs": [
    {
     "data": {
      "text/plain": [
       "110"
      ]
     },
     "execution_count": 6,
     "metadata": {},
     "output_type": "execute_result"
    }
   ],
   "source": [
    "a=10\n",
    "a=a+100 # add assignmet operators\n",
    "a"
   ]
  },
  {
   "cell_type": "code",
   "execution_count": 10,
   "id": "e13cebd5-422e-4493-9c72-02ac0c07bce4",
   "metadata": {},
   "outputs": [
    {
     "data": {
      "text/plain": [
       "55"
      ]
     },
     "execution_count": 10,
     "metadata": {},
     "output_type": "execute_result"
    }
   ],
   "source": [
    "a=45\n",
    "b=55\n",
    "a=a+10\n",
    "b=b+10\n",
    "a"
   ]
  },
  {
   "cell_type": "code",
   "execution_count": 11,
   "id": "2250ccb8-8a89-4a39-8a6e-e1807595dab2",
   "metadata": {},
   "outputs": [
    {
     "data": {
      "text/plain": [
       "65"
      ]
     },
     "execution_count": 11,
     "metadata": {},
     "output_type": "execute_result"
    }
   ],
   "source": [
    "b"
   ]
  },
  {
   "cell_type": "code",
   "execution_count": 12,
   "id": "7bb2969c-f328-4ff3-8f71-eaae0d6fd374",
   "metadata": {},
   "outputs": [
    {
     "data": {
      "text/plain": [
       "'vikas_thakur'"
      ]
     },
     "execution_count": 12,
     "metadata": {},
     "output_type": "execute_result"
    }
   ],
   "source": [
    "a=\"vikas_thakur\" #assignment a strings\n",
    "a"
   ]
  },
  {
   "cell_type": "code",
   "execution_count": 13,
   "id": "4b2ae434-b748-4f1d-96f4-14efb674abef",
   "metadata": {},
   "outputs": [
    {
     "data": {
      "text/plain": [
       "27"
      ]
     },
     "execution_count": 13,
     "metadata": {},
     "output_type": "execute_result"
    }
   ],
   "source": [
    "a=52\n",
    "b=25\n",
    "a-b # subsciption assignment "
   ]
  },
  {
   "cell_type": "code",
   "execution_count": 15,
   "id": "3375e16d-a395-450a-90be-e49b4017ef88",
   "metadata": {},
   "outputs": [
    {
     "data": {
      "text/plain": [
       "192"
      ]
     },
     "execution_count": 15,
     "metadata": {},
     "output_type": "execute_result"
    }
   ],
   "source": [
    "#multiplications \n",
    "a=96\n",
    "b=2\n",
    "a*b"
   ]
  },
  {
   "cell_type": "code",
   "execution_count": 19,
   "id": "19d06b1a-ef1c-474f-a123-4d9401e6dfa5",
   "metadata": {},
   "outputs": [
    {
     "data": {
      "text/plain": [
       "2.7"
      ]
     },
     "execution_count": 19,
     "metadata": {},
     "output_type": "execute_result"
    }
   ],
   "source": [
    "#division assignment\n",
    "a=54\n",
    "b=20\n",
    "a/b"
   ]
  },
  {
   "cell_type": "code",
   "execution_count": 20,
   "id": "ff8f6a50-caab-4dc5-b85a-7c47389261be",
   "metadata": {},
   "outputs": [],
   "source": [
    "#MEMBERSHIP OPERATORS "
   ]
  },
  {
   "cell_type": "code",
   "execution_count": 21,
   "id": "ea73d67f-b900-45fe-8f1c-e4f98c717729",
   "metadata": {},
   "outputs": [
    {
     "data": {
      "text/plain": [
       "True"
      ]
     },
     "execution_count": 21,
     "metadata": {},
     "output_type": "execute_result"
    }
   ],
   "source": [
    "a=\"Vikas_thakur\"\n",
    "\"V\" in a  # in operators "
   ]
  },
  {
   "cell_type": "code",
   "execution_count": 26,
   "id": "f80661ce-351b-47d7-b805-c4f1b17c0471",
   "metadata": {},
   "outputs": [
    {
     "data": {
      "text/plain": [
       "True"
      ]
     },
     "execution_count": 26,
     "metadata": {},
     "output_type": "execute_result"
    }
   ],
   "source": [
    "a=\"vikas_thakur\"\n",
    "\"b\" not in a # not in a "
   ]
  },
  {
   "cell_type": "code",
   "execution_count": 27,
   "id": "4d9f5aef-b61b-4051-92bd-7b0ad35371b7",
   "metadata": {},
   "outputs": [],
   "source": [
    "#IDENTIFY OPERATORS \n",
    "# operators to indentify the locations of two objectives / variables "
   ]
  },
  {
   "cell_type": "code",
   "execution_count": 28,
   "id": "afe0db37-b8b7-40c8-beff-b9e2dbf0c3ed",
   "metadata": {},
   "outputs": [
    {
     "data": {
      "text/plain": [
       "False"
      ]
     },
     "execution_count": 28,
     "metadata": {},
     "output_type": "execute_result"
    }
   ],
   "source": [
    "a=20\n",
    "b=30\n",
    "a is b #is operators is used to indentify"
   ]
  },
  {
   "cell_type": "code",
   "execution_count": 29,
   "id": "33b7d0f6-73e8-4e01-a3f4-c4dc50eea965",
   "metadata": {},
   "outputs": [
    {
     "data": {
      "text/plain": [
       "True"
      ]
     },
     "execution_count": 29,
     "metadata": {},
     "output_type": "execute_result"
    }
   ],
   "source": [
    "a=20\n",
    "b=a\n",
    "a is b # is operators is used "
   ]
  },
  {
   "cell_type": "code",
   "execution_count": 30,
   "id": "2861e2d9-f4da-4bb3-a715-ac2ce3c91b34",
   "metadata": {},
   "outputs": [
    {
     "data": {
      "text/plain": [
       "True"
      ]
     },
     "execution_count": 30,
     "metadata": {},
     "output_type": "execute_result"
    }
   ],
   "source": [
    "a=65\n",
    "b=85\n",
    "a is not b  #is not is used "
   ]
  },
  {
   "cell_type": "code",
   "execution_count": 31,
   "id": "970f78d5-c016-4d9a-8d36-7c0957af214d",
   "metadata": {},
   "outputs": [
    {
     "data": {
      "text/plain": [
       "False"
      ]
     },
     "execution_count": 31,
     "metadata": {},
     "output_type": "execute_result"
    }
   ],
   "source": [
    "a=88\n",
    "b=88\n",
    "a is not b"
   ]
  },
  {
   "cell_type": "code",
   "execution_count": 32,
   "id": "b3a27bd7-a675-4158-a84e-53e2fb6f5ab0",
   "metadata": {},
   "outputs": [],
   "source": [
    "# BITWISE OPERATORS\n",
    "#remaing to this things "
   ]
  },
  {
   "cell_type": "code",
   "execution_count": null,
   "id": "e57f6632-b7b1-455a-af9d-f463ac50037f",
   "metadata": {},
   "outputs": [],
   "source": []
  }
 ],
 "metadata": {
  "kernelspec": {
   "display_name": "Python 3 (ipykernel)",
   "language": "python",
   "name": "python3"
  },
  "language_info": {
   "codemirror_mode": {
    "name": "ipython",
    "version": 3
   },
   "file_extension": ".py",
   "mimetype": "text/x-python",
   "name": "python",
   "nbconvert_exporter": "python",
   "pygments_lexer": "ipython3",
   "version": "3.10.8"
  }
 },
 "nbformat": 4,
 "nbformat_minor": 5
}
