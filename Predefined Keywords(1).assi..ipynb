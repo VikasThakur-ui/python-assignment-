{
 "cells": [
  {
   "cell_type": "raw",
   "id": "04f24be6-3ff8-4ad8-8076-f1e6675a71cb",
   "metadata": {},
   "source": [
    " QUESTION NUMBER 2 \n",
    "#predefined keywords \n",
    "\n",
    "# Variables/identifiers >>placeholders where we keep variety of data which we can use to write logic\n",
    "#Numbers>> integers/float\n",
    "#characters>> string in python\n",
    "#True/False >> boolean\n",
    "#None\n",
    "#complex"
   ]
  },
  {
   "cell_type": "code",
   "execution_count": 3,
   "id": "863ed442-8b43-432d-a0ed-ee9648f9d7ca",
   "metadata": {},
   "outputs": [
    {
     "data": {
      "text/plain": [
       "35"
      ]
     },
     "execution_count": 3,
     "metadata": {},
     "output_type": "execute_result"
    }
   ],
   "source": [
    "a=35\n",
    "a"
   ]
  },
  {
   "cell_type": "code",
   "execution_count": 2,
   "id": "94e736d6-151f-4830-ac13-2271f4be4f4d",
   "metadata": {},
   "outputs": [],
   "source": [
    "# variable or data is store in the reserved memory"
   ]
  },
  {
   "cell_type": "code",
   "execution_count": 4,
   "id": "48a4da3c-eaa1-4fe0-b166-f3405aa9261e",
   "metadata": {},
   "outputs": [
    {
     "data": {
      "text/plain": [
       "55.2"
      ]
     },
     "execution_count": 4,
     "metadata": {},
     "output_type": "execute_result"
    }
   ],
   "source": [
    "b=55.20\n",
    "b"
   ]
  },
  {
   "cell_type": "code",
   "execution_count": 5,
   "id": "16f1c569-b691-49c6-aa1f-3022564baebb",
   "metadata": {},
   "outputs": [],
   "source": [
    "# a memory space will be created with value of the variable"
   ]
  },
  {
   "cell_type": "code",
   "execution_count": 6,
   "id": "43bea910-8a50-4562-b089-bc805a325014",
   "metadata": {},
   "outputs": [
    {
     "data": {
      "text/plain": [
       "'vikas'"
      ]
     },
     "execution_count": 6,
     "metadata": {},
     "output_type": "execute_result"
    }
   ],
   "source": [
    "a=\"vikas\"\n",
    "a"
   ]
  },
  {
   "cell_type": "code",
   "execution_count": 7,
   "id": "7151061b-6c37-4162-9ebf-8630479583b8",
   "metadata": {},
   "outputs": [
    {
     "data": {
      "text/plain": [
       "str"
      ]
     },
     "execution_count": 7,
     "metadata": {},
     "output_type": "execute_result"
    }
   ],
   "source": [
    "type(a)"
   ]
  },
  {
   "cell_type": "code",
   "execution_count": 8,
   "id": "f21cc296-7b0e-4e04-af0f-06a0d94714c3",
   "metadata": {},
   "outputs": [
    {
     "data": {
      "text/plain": [
       "34"
      ]
     },
     "execution_count": 8,
     "metadata": {},
     "output_type": "execute_result"
    }
   ],
   "source": [
    "a=34\n",
    "a"
   ]
  },
  {
   "cell_type": "code",
   "execution_count": 9,
   "id": "1f9c0e24-8710-4b56-bfb4-7bad856d6fd0",
   "metadata": {},
   "outputs": [
    {
     "data": {
      "text/plain": [
       "int"
      ]
     },
     "execution_count": 9,
     "metadata": {},
     "output_type": "execute_result"
    }
   ],
   "source": [
    "type(a) # 'a' is integer"
   ]
  },
  {
   "cell_type": "code",
   "execution_count": 10,
   "id": "d0d562c1-dad6-44bf-863f-9655ee5594ca",
   "metadata": {},
   "outputs": [
    {
     "data": {
      "text/plain": [
       "55.5"
      ]
     },
     "execution_count": 10,
     "metadata": {},
     "output_type": "execute_result"
    }
   ],
   "source": [
    "a=55.5\n",
    "a"
   ]
  },
  {
   "cell_type": "code",
   "execution_count": 11,
   "id": "295799c6-93ed-4840-b47b-3dffd827564b",
   "metadata": {},
   "outputs": [
    {
     "data": {
      "text/plain": [
       "float"
      ]
     },
     "execution_count": 11,
     "metadata": {},
     "output_type": "execute_result"
    }
   ],
   "source": [
    "type(a)"
   ]
  },
  {
   "cell_type": "code",
   "execution_count": 1,
   "id": "3e57a634-13f6-4d60-b28b-13ec9f372f12",
   "metadata": {},
   "outputs": [
    {
     "data": {
      "text/plain": [
       "True"
      ]
     },
     "execution_count": 1,
     "metadata": {},
     "output_type": "execute_result"
    }
   ],
   "source": [
    "a = True\n",
    "a"
   ]
  },
  {
   "cell_type": "code",
   "execution_count": 2,
   "id": "9b2862ea-d79c-4442-a1e2-9119e1203f20",
   "metadata": {},
   "outputs": [
    {
     "data": {
      "text/plain": [
       "bool"
      ]
     },
     "execution_count": 2,
     "metadata": {},
     "output_type": "execute_result"
    }
   ],
   "source": [
    "type(a)"
   ]
  },
  {
   "cell_type": "code",
   "execution_count": 3,
   "id": "3a3b8ada-9330-4532-8ab1-77562f49a1ac",
   "metadata": {},
   "outputs": [],
   "source": [
    "# booleen vaule "
   ]
  },
  {
   "cell_type": "code",
   "execution_count": 6,
   "id": "4f705635-fea7-4c2f-bbbf-3229636a90b6",
   "metadata": {},
   "outputs": [
    {
     "data": {
      "text/plain": [
       "False"
      ]
     },
     "execution_count": 6,
     "metadata": {},
     "output_type": "execute_result"
    }
   ],
   "source": [
    "d = False \n",
    "d"
   ]
  },
  {
   "cell_type": "code",
   "execution_count": 7,
   "id": "49665150-9c4f-490b-8c2a-f285122d2cb0",
   "metadata": {},
   "outputs": [
    {
     "data": {
      "text/plain": [
       "bool"
      ]
     },
     "execution_count": 7,
     "metadata": {},
     "output_type": "execute_result"
    }
   ],
   "source": [
    "type(d)"
   ]
  },
  {
   "cell_type": "code",
   "execution_count": 8,
   "id": "ed4b7d3b-33b3-4df2-a9ca-fdb7a7d1437c",
   "metadata": {},
   "outputs": [
    {
     "data": {
      "text/plain": [
       "1"
      ]
     },
     "execution_count": 8,
     "metadata": {},
     "output_type": "execute_result"
    }
   ],
   "source": [
    "True-False"
   ]
  },
  {
   "cell_type": "code",
   "execution_count": 9,
   "id": "8ef1f060-b2fd-48d4-8111-348bb5a5bad4",
   "metadata": {},
   "outputs": [
    {
     "data": {
      "text/plain": [
       "0"
      ]
     },
     "execution_count": 9,
     "metadata": {},
     "output_type": "execute_result"
    }
   ],
   "source": [
    "True*False"
   ]
  },
  {
   "cell_type": "raw",
   "id": "cc849da5-e682-41e2-ae1b-b01e138a81b9",
   "metadata": {},
   "source": [
    "True / False cannot be domne as it will throw an error"
   ]
  },
  {
   "cell_type": "code",
   "execution_count": 12,
   "id": "e25b8ba6-6fac-4ece-85f4-3862e4db8731",
   "metadata": {},
   "outputs": [],
   "source": [
    "# Non type , means nothing in data , value will empty.\n",
    "v=None\n",
    "v"
   ]
  },
  {
   "cell_type": "code",
   "execution_count": 13,
   "id": "dca54c46-ba23-49b2-96e5-c8420b2a414f",
   "metadata": {},
   "outputs": [
    {
     "data": {
      "text/plain": [
       "NoneType"
      ]
     },
     "execution_count": 13,
     "metadata": {},
     "output_type": "execute_result"
    }
   ],
   "source": [
    "type(v)"
   ]
  },
  {
   "cell_type": "raw",
   "id": "7c311934-53e5-4063-b3c5-15d4c1b69369",
   "metadata": {},
   "source": [
    "COMPLEX NUMBER"
   ]
  },
  {
   "cell_type": "code",
   "execution_count": 14,
   "id": "b34047cb-02de-4619-b9c1-6d6fb3f6bdea",
   "metadata": {},
   "outputs": [],
   "source": [
    "com=5+6j"
   ]
  },
  {
   "cell_type": "code",
   "execution_count": 15,
   "id": "13779c72-fd49-4991-a1da-084b0543b6df",
   "metadata": {},
   "outputs": [
    {
     "data": {
      "text/plain": [
       "complex"
      ]
     },
     "execution_count": 15,
     "metadata": {},
     "output_type": "execute_result"
    }
   ],
   "source": [
    "type(com)"
   ]
  },
  {
   "cell_type": "code",
   "execution_count": 16,
   "id": "d61909b6-1998-4d3a-851a-8fb9b69bd98d",
   "metadata": {},
   "outputs": [
    {
     "data": {
      "text/plain": [
       "5.0"
      ]
     },
     "execution_count": 16,
     "metadata": {},
     "output_type": "execute_result"
    }
   ],
   "source": [
    "com.real"
   ]
  },
  {
   "cell_type": "code",
   "execution_count": 17,
   "id": "2edf0525-4418-400a-8e50-21d3d7713eda",
   "metadata": {},
   "outputs": [
    {
     "data": {
      "text/plain": [
       "6.0"
      ]
     },
     "execution_count": 17,
     "metadata": {},
     "output_type": "execute_result"
    }
   ],
   "source": [
    "com.imag"
   ]
  },
  {
   "cell_type": "raw",
   "id": "8c06c28a-8f63-4674-8849-ab52fd57e73d",
   "metadata": {},
   "source": [
    "SOME THE EXAMPLE OF VALID WAYS "
   ]
  },
  {
   "cell_type": "code",
   "execution_count": 18,
   "id": "243adfbc-d70d-4da2-a902-cb8ff31acb90",
   "metadata": {},
   "outputs": [
    {
     "data": {
      "text/plain": [
       "'vikas'"
      ]
     },
     "execution_count": 18,
     "metadata": {},
     "output_type": "execute_result"
    }
   ],
   "source": [
    "name=\"vikas\"\n",
    "name"
   ]
  },
  {
   "cell_type": "code",
   "execution_count": 23,
   "id": "e892698f-887f-483a-9f7c-d4cfe6fc3ae0",
   "metadata": {},
   "outputs": [
    {
     "data": {
      "text/plain": [
       "'economy_class'"
      ]
     },
     "execution_count": 23,
     "metadata": {},
     "output_type": "execute_result"
    }
   ],
   "source": [
    "cl=\"economy_class\"\n",
    "cl"
   ]
  },
  {
   "cell_type": "code",
   "execution_count": 24,
   "id": "0f974536-0563-4468-8658-36860d3e0fb6",
   "metadata": {},
   "outputs": [
    {
     "data": {
      "text/plain": [
       "'vin diseal'"
      ]
     },
     "execution_count": 24,
     "metadata": {},
     "output_type": "execute_result"
    }
   ],
   "source": [
    "xxx=\"vin diseal\"\n",
    "xxx"
   ]
  },
  {
   "cell_type": "code",
   "execution_count": 25,
   "id": "dc00ca44-8545-43c0-ad8f-f2f923e7b50a",
   "metadata": {},
   "outputs": [
    {
     "data": {
      "text/plain": [
       "'jaipur'"
      ]
     },
     "execution_count": 25,
     "metadata": {},
     "output_type": "execute_result"
    }
   ],
   "source": [
    "location=\"jaipur\"\n",
    "location"
   ]
  },
  {
   "cell_type": "raw",
   "id": "50f3a820-7d4b-4aa4-889a-e4bb86c7a293",
   "metadata": {},
   "source": [
    "COMMENTS "
   ]
  },
  {
   "cell_type": "code",
   "execution_count": 26,
   "id": "937ce179-a6d9-4d86-ae8a-dd2a6229643f",
   "metadata": {},
   "outputs": [],
   "source": [
    "#this is the examples of the variables"
   ]
  },
  {
   "cell_type": "code",
   "execution_count": 27,
   "id": "f3de4239-0735-426b-990b-b93324541d07",
   "metadata": {},
   "outputs": [
    {
     "data": {
      "text/plain": [
       "5"
      ]
     },
     "execution_count": 27,
     "metadata": {},
     "output_type": "execute_result"
    }
   ],
   "source": [
    "a=5\n",
    "a"
   ]
  },
  {
   "cell_type": "code",
   "execution_count": 29,
   "id": "6d76c59f-69e4-4922-b4de-8b4164b705a9",
   "metadata": {},
   "outputs": [
    {
     "data": {
      "text/plain": [
       "34"
      ]
     },
     "execution_count": 29,
     "metadata": {},
     "output_type": "execute_result"
    }
   ],
   "source": [
    "a=34 # first is variabe \n",
    "b=\"vikas\" # seconds is strings\n",
    "a"
   ]
  },
  {
   "cell_type": "code",
   "execution_count": 30,
   "id": "1a0521af-2926-4706-b6f0-3c0384f82c12",
   "metadata": {},
   "outputs": [
    {
     "data": {
      "text/plain": [
       "'vikas'"
      ]
     },
     "execution_count": 30,
     "metadata": {},
     "output_type": "execute_result"
    }
   ],
   "source": [
    "b"
   ]
  },
  {
   "cell_type": "code",
   "execution_count": 39,
   "id": "ba7b97f2-c6a2-46d7-a790-78f79b458d8d",
   "metadata": {},
   "outputs": [
    {
     "name": "stdout",
     "output_type": "stream",
     "text": [
      "HELLO_VIKAS\n"
     ]
    },
    {
     "data": {
      "text/plain": [
       "str"
      ]
     },
     "execution_count": 39,
     "metadata": {},
     "output_type": "execute_result"
    }
   ],
   "source": [
    "a=\"HELLO_VIKAS\"\n",
    "print(\"HELLO_VIKAS\")\n",
    "type(a)"
   ]
  },
  {
   "cell_type": "code",
   "execution_count": 40,
   "id": "115244f5-f20d-4a53-bab8-ff9ea24bcd70",
   "metadata": {},
   "outputs": [],
   "source": [
    "#keywords >> are predefined words that hold a special meaning and have specific purpose in python"
   ]
  },
  {
   "cell_type": "code",
   "execution_count": 42,
   "id": "308704bf-027c-457f-8cb1-aece4451eeef",
   "metadata": {},
   "outputs": [
    {
     "name": "stdout",
     "output_type": "stream",
     "text": [
      "\n",
      "Here is a list of the Python keywords.  Enter any keyword to get more help.\n",
      "\n",
      "False               class               from                or\n",
      "None                continue            global              pass\n",
      "True                def                 if                  raise\n",
      "and                 del                 import              return\n",
      "as                  elif                in                  try\n",
      "assert              else                is                  while\n",
      "async               except              lambda              with\n",
      "await               finally             nonlocal            yield\n",
      "break               for                 not                 \n",
      "\n"
     ]
    }
   ],
   "source": [
    "help('keywords')"
   ]
  },
  {
   "cell_type": "code",
   "execution_count": 43,
   "id": "812698dd-6223-413b-ac58-c75b2b9544b6",
   "metadata": {},
   "outputs": [],
   "source": [
    "#indentation >> easy to read , more readable "
   ]
  },
  {
   "cell_type": "code",
   "execution_count": 45,
   "id": "cd6c3598-5713-4907-b9b1-b80ef965429c",
   "metadata": {},
   "outputs": [
    {
     "name": "stdout",
     "output_type": "stream",
     "text": [
      "greater\n"
     ]
    }
   ],
   "source": [
    "if 23>21:\n",
    "    print(\"greater\")"
   ]
  },
  {
   "cell_type": "code",
   "execution_count": 46,
   "id": "67be9605-a0f9-43b1-86d9-91fa8b3317f1",
   "metadata": {},
   "outputs": [
    {
     "name": "stdout",
     "output_type": "stream",
     "text": [
      "less then\n"
     ]
    }
   ],
   "source": [
    "if 250<500:\n",
    "    print(\"less then\")"
   ]
  }
 ],
 "metadata": {
  "kernelspec": {
   "display_name": "Python 3 (ipykernel)",
   "language": "python",
   "name": "python3"
  },
  "language_info": {
   "codemirror_mode": {
    "name": "ipython",
    "version": 3
   },
   "file_extension": ".py",
   "mimetype": "text/x-python",
   "name": "python",
   "nbconvert_exporter": "python",
   "pygments_lexer": "ipython3",
   "version": "3.10.8"
  }
 },
 "nbformat": 4,
 "nbformat_minor": 5
}
