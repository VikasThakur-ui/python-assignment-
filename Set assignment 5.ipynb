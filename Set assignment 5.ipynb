{
 "cells": [
  {
   "cell_type": "code",
   "execution_count": 192,
   "id": "21c19d48-04a1-41f5-8cd6-0e481d67c3b3",
   "metadata": {},
   "outputs": [],
   "source": [
    "# SETS"
   ]
  },
  {
   "cell_type": "code",
   "execution_count": 196,
   "id": "68ea6456-651d-42a9-a0f1-032ed6b84a92",
   "metadata": {},
   "outputs": [
    {
     "data": {
      "text/plain": [
       "{1, 2, 3, 45, 'vikas'}"
      ]
     },
     "execution_count": 196,
     "metadata": {},
     "output_type": "execute_result"
    }
   ],
   "source": [
    "s={1,2,3,45,\"vikas\"}\n",
    "s"
   ]
  },
  {
   "cell_type": "code",
   "execution_count": 198,
   "id": "07821b25-8271-44b4-8b80-738cfd8a1f45",
   "metadata": {},
   "outputs": [
    {
     "data": {
      "text/plain": [
       "set"
      ]
     },
     "execution_count": 198,
     "metadata": {},
     "output_type": "execute_result"
    }
   ],
   "source": [
    "type(s)"
   ]
  },
  {
   "cell_type": "code",
   "execution_count": 200,
   "id": "98c2f490-3e7c-432c-8d38-6d1e44ef7eae",
   "metadata": {},
   "outputs": [
    {
     "data": {
      "text/plain": [
       "{1, 2, 3, 4, 5, 55, 'thakur', 'vikas'}"
      ]
     },
     "execution_count": 200,
     "metadata": {},
     "output_type": "execute_result"
    }
   ],
   "source": [
    "s={1,1,1,1,2,2,3,4,4,5,55,5,5,\"vikas\",\"vikas\",\"thakur\"}\n",
    "s"
   ]
  },
  {
   "cell_type": "code",
   "execution_count": 202,
   "id": "0437ff9f-905b-4bce-a28b-a876db928181",
   "metadata": {},
   "outputs": [],
   "source": [
    "#use cases"
   ]
  },
  {
   "cell_type": "code",
   "execution_count": 218,
   "id": "38f5252c-5bac-45d1-adf8-507c122fd210",
   "metadata": {},
   "outputs": [
    {
     "data": {
      "text/plain": [
       "[1, 2, 3, 4, 'vikas', 'darmesh']"
      ]
     },
     "execution_count": 218,
     "metadata": {},
     "output_type": "execute_result"
    }
   ],
   "source": [
    "l=[1,2,3,4,\"vikas\",\"darmesh\"]\n",
    "l"
   ]
  },
  {
   "cell_type": "code",
   "execution_count": 206,
   "id": "98da09b5-875a-47dd-ada5-d8d6ffb45447",
   "metadata": {},
   "outputs": [],
   "source": [
    "#to convert from list >> set"
   ]
  },
  {
   "cell_type": "code",
   "execution_count": 224,
   "id": "4d117486-ee9d-422c-ac2c-aec886bc89a5",
   "metadata": {},
   "outputs": [
    {
     "data": {
      "text/plain": [
       "{1, 2, 3, 4, 'darmesh', 'vikas'}"
      ]
     },
     "execution_count": 224,
     "metadata": {},
     "output_type": "execute_result"
    }
   ],
   "source": [
    "l=set(list)\n",
    "l\n"
   ]
  },
  {
   "cell_type": "code",
   "execution_count": 228,
   "id": "a413511e-4bb1-4443-9d22-37d0ddebe0ab",
   "metadata": {},
   "outputs": [
    {
     "data": {
      "text/plain": [
       "set"
      ]
     },
     "execution_count": 228,
     "metadata": {},
     "output_type": "execute_result"
    }
   ],
   "source": [
    "type(l)"
   ]
  },
  {
   "cell_type": "code",
   "execution_count": 254,
   "id": "44d3a928-0f0a-40b7-b09b-bffa922267aa",
   "metadata": {},
   "outputs": [],
   "source": [
    "#loop"
   ]
  },
  {
   "cell_type": "code",
   "execution_count": 260,
   "id": "421d8db8-5aa0-4c24-a609-edab422392f6",
   "metadata": {},
   "outputs": [
    {
     "name": "stdout",
     "output_type": "stream",
     "text": [
      "1\n",
      "2\n",
      "3\n",
      "4\n",
      "japur\n",
      "sunny\n",
      "vikas\n"
     ]
    }
   ],
   "source": [
    "s={1,2,3,4,\"vikas\",\"sunny\",\"japur\"}\n",
    "for i in s:\n",
    "    print(i)"
   ]
  },
  {
   "cell_type": "code",
   "execution_count": 262,
   "id": "1bf5f70c-b3cd-495d-8d2e-cd74bb8ad592",
   "metadata": {},
   "outputs": [],
   "source": [
    "# set is mutable"
   ]
  },
  {
   "cell_type": "code",
   "execution_count": 264,
   "id": "c63fa7ee-e1b9-468e-bbbc-ffe422aae61d",
   "metadata": {},
   "outputs": [
    {
     "data": {
      "text/plain": [
       "{1, 2, 3, 4, 6, 55}"
      ]
     },
     "execution_count": 264,
     "metadata": {},
     "output_type": "execute_result"
    }
   ],
   "source": [
    "s={1,2,3,4,55,6}\n",
    "s"
   ]
  },
  {
   "cell_type": "code",
   "execution_count": 266,
   "id": "9392f04d-7dd3-4d26-afa6-d6c777332be5",
   "metadata": {},
   "outputs": [],
   "source": [
    "s.add(100)"
   ]
  },
  {
   "cell_type": "code",
   "execution_count": 268,
   "id": "03657004-434e-4246-a7d5-4c0b1ec78491",
   "metadata": {},
   "outputs": [
    {
     "data": {
      "text/plain": [
       "{1, 2, 3, 4, 6, 55, 100}"
      ]
     },
     "execution_count": 268,
     "metadata": {},
     "output_type": "execute_result"
    }
   ],
   "source": [
    "s"
   ]
  },
  {
   "cell_type": "code",
   "execution_count": 276,
   "id": "8ff88052-334d-4635-aa79-9d4527701836",
   "metadata": {},
   "outputs": [
    {
     "data": {
      "text/plain": [
       "set"
      ]
     },
     "execution_count": 276,
     "metadata": {},
     "output_type": "execute_result"
    }
   ],
   "source": [
    "type(s)"
   ]
  },
  {
   "cell_type": "code",
   "execution_count": 278,
   "id": "afda8651-dbb5-45d2-88cb-ed69cdd328ab",
   "metadata": {},
   "outputs": [],
   "source": [
    "#remove"
   ]
  },
  {
   "cell_type": "code",
   "execution_count": null,
   "id": "eec82925-151f-4137-bd49-b3db0a550838",
   "metadata": {},
   "outputs": [],
   "source": [
    "s.remove(2)"
   ]
  },
  {
   "cell_type": "code",
   "execution_count": 290,
   "id": "09d62488-bc30-477d-8604-70f828bb8e97",
   "metadata": {},
   "outputs": [
    {
     "data": {
      "text/plain": [
       "{1, 3, 4, 6, 55, 100}"
      ]
     },
     "execution_count": 290,
     "metadata": {},
     "output_type": "execute_result"
    }
   ],
   "source": [
    "s"
   ]
  },
  {
   "cell_type": "code",
   "execution_count": 292,
   "id": "9ecd9b49-cb2d-48c2-b1cb-b2da3fd2120e",
   "metadata": {},
   "outputs": [],
   "source": [
    "#updated the sets(strings)"
   ]
  },
  {
   "cell_type": "code",
   "execution_count": 294,
   "id": "022897c5-2a01-445e-a6e5-9acae936b780",
   "metadata": {},
   "outputs": [
    {
     "data": {
      "text/plain": [
       "{1, 2, 3, 'sunny'}"
      ]
     },
     "execution_count": 294,
     "metadata": {},
     "output_type": "execute_result"
    }
   ],
   "source": [
    "s={1,2,3,\"sunny\"}\n",
    "s"
   ]
  },
  {
   "cell_type": "code",
   "execution_count": 296,
   "id": "4d57d760-da82-464a-a465-b58c1db2c671",
   "metadata": {},
   "outputs": [
    {
     "data": {
      "text/plain": [
       "{1, 2, 3, 'a', 'i', 'k', 's', 'sunny', 'v'}"
      ]
     },
     "execution_count": 296,
     "metadata": {},
     "output_type": "execute_result"
    }
   ],
   "source": [
    "s.update(\"vikas\")\n",
    "s"
   ]
  },
  {
   "cell_type": "code",
   "execution_count": 300,
   "id": "427c6cbb-53b8-4bc2-aed3-37d0aa3279fd",
   "metadata": {},
   "outputs": [
    {
     "data": {
      "text/plain": [
       "{1, 2, 3, 'a', 'i', 'k', 's', 'sunny', 'v', 'vikas'}"
      ]
     },
     "execution_count": 300,
     "metadata": {},
     "output_type": "execute_result"
    }
   ],
   "source": [
    "s.update([\"vikas\"])\n",
    "s"
   ]
  },
  {
   "cell_type": "code",
   "execution_count": 302,
   "id": "c4f5df7d-0b46-45d2-9fa4-434f57d8589f",
   "metadata": {},
   "outputs": [],
   "source": [
    "##s. discard >> if some value is  not present in the data structure , so it will not throw an error"
   ]
  },
  {
   "cell_type": "code",
   "execution_count": 312,
   "id": "d15cfba2-d24c-4ac4-bd78-914cb1aa75ff",
   "metadata": {},
   "outputs": [
    {
     "data": {
      "text/plain": [
       "<function set.discard>"
      ]
     },
     "execution_count": 312,
     "metadata": {},
     "output_type": "execute_result"
    }
   ],
   "source": [
    "s={1, 2, 3, 4, 6, 55, 100}\n",
    "s.discard"
   ]
  },
  {
   "cell_type": "code",
   "execution_count": null,
   "id": "fa286f47-5d3d-4d81-8fb1-6760e4f2ba66",
   "metadata": {},
   "outputs": [],
   "source": []
  }
 ],
 "metadata": {
  "kernelspec": {
   "display_name": "Python 3 (ipykernel)",
   "language": "python",
   "name": "python3"
  },
  "language_info": {
   "codemirror_mode": {
    "name": "ipython",
    "version": 3
   },
   "file_extension": ".py",
   "mimetype": "text/x-python",
   "name": "python",
   "nbconvert_exporter": "python",
   "pygments_lexer": "ipython3",
   "version": "3.12.4"
  }
 },
 "nbformat": 4,
 "nbformat_minor": 5
}
