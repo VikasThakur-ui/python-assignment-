{
 "cells": [
  {
   "cell_type": "code",
   "execution_count": null,
   "id": "6216aa6b-a8e4-4099-9939-7e5f55892383",
   "metadata": {},
   "outputs": [],
   "source": [
    "#Question 1 -  Discuss string slicing and provide the examples?"
   ]
  },
  {
   "cell_type": "code",
   "execution_count": 20,
   "id": "ef89ac41-96cf-4af9-a2e3-b78e14815984",
   "metadata": {},
   "outputs": [
    {
     "data": {
      "text/plain": [
       "' my name is vikas'"
      ]
     },
     "execution_count": 20,
     "metadata": {},
     "output_type": "execute_result"
    }
   ],
   "source": [
    "#Answer :- Slicing is aa way to extract parts of sequences in Python.\n",
    "#Scilicing is a powerful feature in python that allow you to access parts of sequences \n",
    "#Like lists string or tuples by specifying a range of indices. Slicing uses the following.\n",
    "\n",
    "#extract /slcingof strings\n",
    "string1=\" my name is vikas thakur \"\n",
    "string1[0:17]"
   ]
  },
  {
   "cell_type": "code",
   "execution_count": 25,
   "id": "c63c8808-fdab-4ab3-a709-f8645a8dcd47",
   "metadata": {},
   "outputs": [
    {
     "data": {
      "text/plain": [
       "'vikas thakur '"
      ]
     },
     "execution_count": 25,
     "metadata": {},
     "output_type": "execute_result"
    }
   ],
   "source": [
    "#exect the last 13 character\n",
    "string1[-13:]"
   ]
  },
  {
   "cell_type": "code",
   "execution_count": 26,
   "id": "8e602978-6a4a-4c99-8435-d6aa8cca81a0",
   "metadata": {},
   "outputs": [
    {
     "data": {
      "text/plain": [
       "'love to read books'"
      ]
     },
     "execution_count": 26,
     "metadata": {},
     "output_type": "execute_result"
    }
   ],
   "source": [
    "string2=\"i love to read books\"\n",
    "string2[2:]"
   ]
  },
  {
   "cell_type": "code",
   "execution_count": 2,
   "id": "63c34ab5-b6e5-459d-9eb5-c00b2ac779a2",
   "metadata": {},
   "outputs": [
    {
     "data": {
      "text/plain": [
       "'Vks'"
      ]
     },
     "execution_count": 2,
     "metadata": {},
     "output_type": "execute_result"
    }
   ],
   "source": [
    "string1=\"Vikas\"\n",
    "string1[0:5:2]"
   ]
  },
  {
   "cell_type": "code",
   "execution_count": 12,
   "id": "8c2ace73-a6e6-4cab-a6dd-d658b9d0257b",
   "metadata": {},
   "outputs": [
    {
     "data": {
      "text/plain": [
       "'my name is'"
      ]
     },
     "execution_count": 12,
     "metadata": {},
     "output_type": "execute_result"
    }
   ],
   "source": [
    "string3=\"my name is vikas thakur , i loved data analysis\"\n",
    "string3[0:10:1]"
   ]
  },
  {
   "cell_type": "code",
   "execution_count": null,
   "id": "921ef29f-3c7c-4a19-b78e-1265102d57e4",
   "metadata": {},
   "outputs": [],
   "source": [
    "#if you not provide the end index it will be  default give sub strings till the last index.  "
   ]
  },
  {
   "cell_type": "code",
   "execution_count": 13,
   "id": "f5a85fc8-b165-4545-946b-8cb2794195b7",
   "metadata": {},
   "outputs": [
    {
     "data": {
      "text/plain": [
       "'dlrow olleh'"
      ]
     },
     "execution_count": 13,
     "metadata": {},
     "output_type": "execute_result"
    }
   ],
   "source": [
    "string1=\"hello world\"\n",
    "string1[::-1]"
   ]
  },
  {
   "cell_type": "code",
   "execution_count": 14,
   "id": "b153fe2b-927a-48b4-b416-222b25428cea",
   "metadata": {},
   "outputs": [
    {
     "data": {
      "text/plain": [
       "'rukaht_sakiv'"
      ]
     },
     "execution_count": 14,
     "metadata": {},
     "output_type": "execute_result"
    }
   ],
   "source": [
    "name=\"vikas_thakur\"\n",
    "name[::-1]"
   ]
  },
  {
   "cell_type": "code",
   "execution_count": 21,
   "id": "28ec5287-22ae-4ef8-9a58-908deeace7c8",
   "metadata": {},
   "outputs": [
    {
     "data": {
      "text/plain": [
       "'ecremmoc_fo_rolehcab'"
      ]
     },
     "execution_count": 21,
     "metadata": {},
     "output_type": "execute_result"
    }
   ],
   "source": [
    "name=\"vikas_thakur\"\n",
    "s=\"bachelor_of_commerce\"\n",
    "name[::-1]\n",
    "s[::-1]"
   ]
  },
  {
   "cell_type": "code",
   "execution_count": null,
   "id": "4a835bdf-977e-42e5-bdc6-bd0c2c959b6e",
   "metadata": {},
   "outputs": [],
   "source": [
    "# itrate over the sequence in reserve order -- it means that start from the end , move to beginning and stop backwords by characters."
   ]
  },
  {
   "cell_type": "code",
   "execution_count": 22,
   "id": "619b6fb5-58d7-4017-9d9e-c8514343dacf",
   "metadata": {},
   "outputs": [
    {
     "data": {
      "text/plain": [
       "24"
      ]
     },
     "execution_count": 22,
     "metadata": {},
     "output_type": "execute_result"
    }
   ],
   "source": [
    "#length /character\n",
    "s= \" my name is vikas thakur\"\n",
    "len(s)"
   ]
  },
  {
   "cell_type": "code",
   "execution_count": 26,
   "id": "e81bdf9d-6ecb-49dd-9f3d-a24bb41cc7ca",
   "metadata": {},
   "outputs": [
    {
     "data": {
      "text/plain": [
       "' My name is vikki thakur'"
      ]
     },
     "execution_count": 26,
     "metadata": {},
     "output_type": "execute_result"
    }
   ],
   "source": [
    "#replace/modification\n",
    "s=\" My name is vikas thakur\"\n",
    "s.replace(\"vikas\",\"vikki\")"
   ]
  },
  {
   "cell_type": "code",
   "execution_count": 27,
   "id": "b32e94d5-47d7-4aef-9113-4a747b2d84a7",
   "metadata": {},
   "outputs": [
    {
     "data": {
      "text/plain": [
       "' My name is vikas thakur'"
      ]
     },
     "execution_count": 27,
     "metadata": {},
     "output_type": "execute_result"
    }
   ],
   "source": [
    "s"
   ]
  },
  {
   "cell_type": "code",
   "execution_count": 28,
   "id": "9a8517d8-a7d6-4664-8ee9-502755611cfa",
   "metadata": {},
   "outputs": [
    {
     "data": {
      "text/plain": [
       "'my name is 12345 thakur'"
      ]
     },
     "execution_count": 28,
     "metadata": {},
     "output_type": "execute_result"
    }
   ],
   "source": [
    "s=\"my name is vikas thakur\"\n",
    "s.replace(\"vikas\",\"12345\")"
   ]
  },
  {
   "cell_type": "code",
   "execution_count": 1,
   "id": "ce5d161a-4060-49f6-96ba-903f8879cd2a",
   "metadata": {},
   "outputs": [
    {
     "data": {
      "text/plain": [
       "'plot no.88 , ram nagar  jaipur'"
      ]
     },
     "execution_count": 1,
     "metadata": {},
     "output_type": "execute_result"
    }
   ],
   "source": [
    "address=\"p. no.88 , ram nagar  jaipur\"\n",
    "address.replace(\"p.\",\"plot\")"
   ]
  },
  {
   "cell_type": "code",
   "execution_count": 33,
   "id": "5ed72e38-e2a7-425b-ac6c-7617789ea26b",
   "metadata": {},
   "outputs": [
    {
     "data": {
      "text/plain": [
       "'vikas thakur'"
      ]
     },
     "execution_count": 33,
     "metadata": {},
     "output_type": "execute_result"
    }
   ],
   "source": [
    "#to character small\n",
    "text=\"Vikas Thakur\"\n",
    "text.lower()"
   ]
  },
  {
   "cell_type": "code",
   "execution_count": 34,
   "id": "79a67868-d76a-40df-a303-7a214c3b41b9",
   "metadata": {},
   "outputs": [
    {
     "data": {
      "text/plain": [
       "'MY NAME IS VIKAS THAKUR , I FROM JAIPUR'"
      ]
     },
     "execution_count": 34,
     "metadata": {},
     "output_type": "execute_result"
    }
   ],
   "source": [
    "text=\"my name is vikas thakur , i from jaipur\"\n",
    "text.upper()"
   ]
  },
  {
   "cell_type": "code",
   "execution_count": 35,
   "id": "653c60b6-4f74-43a6-afa1-ef706e9423ac",
   "metadata": {},
   "outputs": [
    {
     "data": {
      "text/plain": [
       "'I am learnig data analysis course on pwskills'"
      ]
     },
     "execution_count": 35,
     "metadata": {},
     "output_type": "execute_result"
    }
   ],
   "source": [
    "text=\"i am learnig data analysis course on pwskills\"\n",
    "text.capitalize()"
   ]
  },
  {
   "cell_type": "code",
   "execution_count": 37,
   "id": "8e762f2d-05d3-4a06-8d41-dd3a71d6849e",
   "metadata": {},
   "outputs": [
    {
     "data": {
      "text/plain": [
       "'Hello India'"
      ]
     },
     "execution_count": 37,
     "metadata": {},
     "output_type": "execute_result"
    }
   ],
   "source": [
    "text=\"hello india\"\n",
    "text.title()"
   ]
  },
  {
   "cell_type": "code",
   "execution_count": 38,
   "id": "7a712d75-43e7-4cc6-8acd-8ce7e21ca6dd",
   "metadata": {},
   "outputs": [
    {
     "data": {
      "text/plain": [
       "' I LOVE MY NATION'"
      ]
     },
     "execution_count": 38,
     "metadata": {},
     "output_type": "execute_result"
    }
   ],
   "source": [
    "text=\" i love my nation\"\n",
    "text.swapcase()"
   ]
  }
 ],
 "metadata": {
  "kernelspec": {
   "display_name": "Python 3 (ipykernel)",
   "language": "python",
   "name": "python3"
  },
  "language_info": {
   "codemirror_mode": {
    "name": "ipython",
    "version": 3
   },
   "file_extension": ".py",
   "mimetype": "text/x-python",
   "name": "python",
   "nbconvert_exporter": "python",
   "pygments_lexer": "ipython3",
   "version": "3.12.4"
  }
 },
 "nbformat": 4,
 "nbformat_minor": 5
}
