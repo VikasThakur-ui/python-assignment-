{
 "cells": [
  {
   "cell_type": "code",
   "execution_count": 204,
   "id": "547689a0-0b14-4df0-a43c-a4319b6c6207",
   "metadata": {},
   "outputs": [],
   "source": [
    "#TUPLES"
   ]
  },
  {
   "cell_type": "code",
   "execution_count": null,
   "id": "05a24e42-993d-4941-a70a-9a9c7f68b02f",
   "metadata": {},
   "outputs": [],
   "source": [
    "#use cases"
   ]
  },
  {
   "cell_type": "code",
   "execution_count": 1,
   "id": "db7f49eb-f188-46c5-9a35-e11260feea3b",
   "metadata": {},
   "outputs": [
    {
     "data": {
      "text/plain": [
       "('Atm pin', 'card number', 'bank number', 1, 2, 3, 4)"
      ]
     },
     "execution_count": 1,
     "metadata": {},
     "output_type": "execute_result"
    }
   ],
   "source": [
    "imp_data=(\"Atm pin\",\"card number\",\"bank number\",1,2,3,4)\n",
    "imp_data"
   ]
  },
  {
   "cell_type": "code",
   "execution_count": 2,
   "id": "cf072e64-ae4d-4826-ade7-7418e0789344",
   "metadata": {},
   "outputs": [
    {
     "data": {
      "text/plain": [
       "tuple"
      ]
     },
     "execution_count": 2,
     "metadata": {},
     "output_type": "execute_result"
    }
   ],
   "source": [
    "type(imp_data)"
   ]
  },
  {
   "cell_type": "code",
   "execution_count": 17,
   "id": "e76e0b64-e131-41b8-bfaa-e58686106afe",
   "metadata": {},
   "outputs": [
    {
     "data": {
      "text/plain": [
       "tuple"
      ]
     },
     "execution_count": 17,
     "metadata": {},
     "output_type": "execute_result"
    }
   ],
   "source": [
    "box1=(\"a\",\"b\")\n",
    "box2=(\"c\",\"d\")\n",
    "choc_bag=(box1,box2)\n",
    "type(choc_bag)"
   ]
  },
  {
   "cell_type": "code",
   "execution_count": 14,
   "id": "ff71ad61-f49d-47dd-90c0-b4476603eea4",
   "metadata": {},
   "outputs": [
    {
     "name": "stdout",
     "output_type": "stream",
     "text": [
      "a\n",
      "b\n",
      "c\n",
      "d\n"
     ]
    }
   ],
   "source": [
    "for box in choc_bag:\n",
    "    for choc in box:\n",
    "        print(choc)"
   ]
  },
  {
   "cell_type": "code",
   "execution_count": 211,
   "id": "00b34d36-6f76-49ae-9425-7268814edeed",
   "metadata": {},
   "outputs": [
    {
     "data": {
      "text/plain": [
       "1"
      ]
     },
     "execution_count": 211,
     "metadata": {},
     "output_type": "execute_result"
    }
   ],
   "source": [
    "tuple1=(\"pwskills\",1,2,3,5)\n",
    "tuple1.count(1)"
   ]
  },
  {
   "cell_type": "code",
   "execution_count": 229,
   "id": "3a4ee176-4c1f-48ba-8861-8df9ff009e3b",
   "metadata": {},
   "outputs": [
    {
     "data": {
      "text/plain": [
       "0"
      ]
     },
     "execution_count": 229,
     "metadata": {},
     "output_type": "execute_result"
    }
   ],
   "source": [
    "tuple1.index(\"pwskills\")"
   ]
  },
  {
   "cell_type": "code",
   "execution_count": 235,
   "id": "d75be3ae-c2fe-42de-a3f2-438ca0c8ec3c",
   "metadata": {},
   "outputs": [
    {
     "data": {
      "text/plain": [
       "('pwskills', 1, 2, 2, 3, 5, 67)"
      ]
     },
     "execution_count": 235,
     "metadata": {},
     "output_type": "execute_result"
    }
   ],
   "source": [
    "tuple1[0:4]\n",
    "(\"pwskills\",1,2,2,3,5,67,)"
   ]
  },
  {
   "cell_type": "code",
   "execution_count": 237,
   "id": "f7013f59-39b1-4eb6-93ea-9686709741d3",
   "metadata": {},
   "outputs": [],
   "source": [
    "#combine tuples"
   ]
  },
  {
   "cell_type": "code",
   "execution_count": 243,
   "id": "9eb5a99c-2061-4b2f-bab7-a00e4e384548",
   "metadata": {},
   "outputs": [
    {
     "data": {
      "text/plain": [
       "(1, 2, 3, 4, 5, 6, 7, 10, 191, 17, 46, 7)"
      ]
     },
     "execution_count": 243,
     "metadata": {},
     "output_type": "execute_result"
    }
   ],
   "source": [
    "t1=(1,2,3,4,5,6,7)\n",
    "t2=(10,191,17,46,7)\n",
    "t1+t2"
   ]
  },
  {
   "cell_type": "code",
   "execution_count": 245,
   "id": "4160d336-cb64-4c9c-9f20-f06e61e18e54",
   "metadata": {},
   "outputs": [],
   "source": [
    "# membership >> to check the value , wheather , it is nor not "
   ]
  },
  {
   "cell_type": "code",
   "execution_count": null,
   "id": "662d5a75-4708-49f8-9bd5-603a20e3eef0",
   "metadata": {},
   "outputs": [],
   "source": [
    "t1=(1,2,3,4,5,67)"
   ]
  },
  {
   "cell_type": "code",
   "execution_count": 247,
   "id": "45698c7f-d846-425f-8ab8-6adca42cbc9f",
   "metadata": {},
   "outputs": [
    {
     "data": {
      "text/plain": [
       "True"
      ]
     },
     "execution_count": 247,
     "metadata": {},
     "output_type": "execute_result"
    }
   ],
   "source": [
    "4 in t1"
   ]
  },
  {
   "cell_type": "code",
   "execution_count": 249,
   "id": "ff7bab96-c9e4-4e50-becb-638a7711200b",
   "metadata": {},
   "outputs": [
    {
     "data": {
      "text/plain": [
       "False"
      ]
     },
     "execution_count": 249,
     "metadata": {},
     "output_type": "execute_result"
    }
   ],
   "source": [
    "\"pwskills\" in t1"
   ]
  },
  {
   "cell_type": "code",
   "execution_count": null,
   "id": "b283d0b3-0442-4ba1-b487-8c79927da677",
   "metadata": {},
   "outputs": [],
   "source": [
    "#use cases"
   ]
  },
  {
   "cell_type": "code",
   "execution_count": 18,
   "id": "a1bf2b0f-020b-4fac-9af7-a488cee2a1a6",
   "metadata": {},
   "outputs": [],
   "source": [
    "#sets {}"
   ]
  },
  {
   "cell_type": "code",
   "execution_count": 20,
   "id": "5508f6e9-517f-4ca0-8087-92ed2cf758bf",
   "metadata": {},
   "outputs": [
    {
     "data": {
      "text/plain": [
       "{1, 2, 3, 4, 5, 6, 7, 78, 90, 1001}"
      ]
     },
     "execution_count": 20,
     "metadata": {},
     "output_type": "execute_result"
    }
   ],
   "source": [
    "a={1,2,3,4,78, 90, 1001,2,3,5,6,7}\n",
    "a"
   ]
  },
  {
   "cell_type": "code",
   "execution_count": 23,
   "id": "5e25b394-b0e9-4c56-b229-289f0794ef51",
   "metadata": {},
   "outputs": [
    {
     "data": {
      "text/plain": [
       "set"
      ]
     },
     "execution_count": 23,
     "metadata": {},
     "output_type": "execute_result"
    }
   ],
   "source": [
    "color={\"red\",\"orange\",\"red\",\"pink\",\"pink\",\"pink\"\"orange\"}\n",
    "color\n",
    "type(color)"
   ]
  },
  {
   "cell_type": "code",
   "execution_count": 24,
   "id": "d5d8c466-f1b9-4043-9496-842335dad3d8",
   "metadata": {},
   "outputs": [
    {
     "data": {
      "text/plain": [
       "{'orange', 'pink', 'pinkorange', 'red', 'white'}"
      ]
     },
     "execution_count": 24,
     "metadata": {},
     "output_type": "execute_result"
    }
   ],
   "source": [
    "color.add(\"white\")\n",
    "color"
   ]
  },
  {
   "cell_type": "code",
   "execution_count": 25,
   "id": "c0c03da2-d91b-4fd4-8de7-5c13fda53e39",
   "metadata": {},
   "outputs": [
    {
     "data": {
      "text/plain": [
       "{'orange', 'pink', 'pinkorange', 'white'}"
      ]
     },
     "execution_count": 25,
     "metadata": {},
     "output_type": "execute_result"
    }
   ],
   "source": [
    "color.remove(\"red\")\n",
    "color"
   ]
  },
  {
   "cell_type": "code",
   "execution_count": 26,
   "id": "f0916327-cd46-469f-9dd7-ca59b08f3573",
   "metadata": {},
   "outputs": [
    {
     "data": {
      "text/plain": [
       "{'apple', 'bananas', 'mangos'}"
      ]
     },
     "execution_count": 26,
     "metadata": {},
     "output_type": "execute_result"
    }
   ],
   "source": [
    "grocer_list={\"apple\",\"bananas\",\"mangos\",}\n",
    "grocer_list"
   ]
  },
  {
   "cell_type": "code",
   "execution_count": 154,
   "id": "befe5fee-406e-40d9-a1b8-4d5a5c13ed38",
   "metadata": {},
   "outputs": [
    {
     "data": {
      "text/plain": [
       "[1, 2, 3, 4, 'vikas', 'darmesh']"
      ]
     },
     "execution_count": 154,
     "metadata": {},
     "output_type": "execute_result"
    }
   ],
   "source": [
    "l=[1,2,3,4,\"vikas\",\"darmesh\"]\n",
    "l"
   ]
  },
  {
   "cell_type": "code",
   "execution_count": 166,
   "id": "d157e6c0-a865-47a6-b3c1-8086a62231fe",
   "metadata": {},
   "outputs": [],
   "source": [
    "# set is mutable"
   ]
  },
  {
   "cell_type": "code",
   "execution_count": 170,
   "id": "8da21cb3-b3b4-4564-841c-4a37a0548bfb",
   "metadata": {},
   "outputs": [
    {
     "data": {
      "text/plain": [
       "{1, 2, 3, 4, 6, 55}"
      ]
     },
     "execution_count": 170,
     "metadata": {},
     "output_type": "execute_result"
    }
   ],
   "source": [
    "s={1,2,3,4,55,6}\n",
    "s"
   ]
  },
  {
   "cell_type": "code",
   "execution_count": 172,
   "id": "44d80503-c1d3-459f-8dd5-50fec3e5a338",
   "metadata": {},
   "outputs": [
    {
     "data": {
      "text/plain": [
       "{1, 2, 3, 4, 6, 55, 100}"
      ]
     },
     "execution_count": 172,
     "metadata": {},
     "output_type": "execute_result"
    }
   ],
   "source": [
    "s.add(100)\n",
    "s"
   ]
  },
  {
   "cell_type": "code",
   "execution_count": 174,
   "id": "5b0ea32e-619d-4cff-b443-b123d1e01bd7",
   "metadata": {},
   "outputs": [],
   "source": [
    "#remove"
   ]
  },
  {
   "cell_type": "code",
   "execution_count": 176,
   "id": "d3fc5bfe-28c3-46ca-97c2-1467af3af213",
   "metadata": {},
   "outputs": [
    {
     "data": {
      "text/plain": [
       "{1, 3, 4, 6, 55, 100}"
      ]
     },
     "execution_count": 176,
     "metadata": {},
     "output_type": "execute_result"
    }
   ],
   "source": [
    "s.remove(2)\n",
    "s"
   ]
  },
  {
   "cell_type": "code",
   "execution_count": 178,
   "id": "e0adf9dc-a6c3-47fe-872c-8dd723ff3d21",
   "metadata": {},
   "outputs": [],
   "source": [
    "#updated the sets(strings)"
   ]
  },
  {
   "cell_type": "code",
   "execution_count": 180,
   "id": "e93832ee-3a0b-441f-8891-f6c289d5f252",
   "metadata": {},
   "outputs": [
    {
     "data": {
      "text/plain": [
       "{1, 2, 3, 'sunny'}"
      ]
     },
     "execution_count": 180,
     "metadata": {},
     "output_type": "execute_result"
    }
   ],
   "source": [
    "s={1,2,3,\"sunny\"}\n",
    "s"
   ]
  },
  {
   "cell_type": "code",
   "execution_count": 182,
   "id": "084991d9-b7c0-4be7-821a-f18943f5f49c",
   "metadata": {},
   "outputs": [
    {
     "data": {
      "text/plain": [
       "{1, 2, 3, 'a', 'i', 'k', 's', 'sunny', 'v'}"
      ]
     },
     "execution_count": 182,
     "metadata": {},
     "output_type": "execute_result"
    }
   ],
   "source": [
    "s.update(\"vikas\")\n",
    "s"
   ]
  },
  {
   "cell_type": "code",
   "execution_count": 184,
   "id": "6109d861-1047-47fd-961e-cf65757de0cb",
   "metadata": {},
   "outputs": [
    {
     "data": {
      "text/plain": [
       "{1, 2, 3, 'a', 'i', 'k', 's', 'sunny', 'v', 'vikas'}"
      ]
     },
     "execution_count": 184,
     "metadata": {},
     "output_type": "execute_result"
    }
   ],
   "source": [
    "s.update([\"vikas\"])\n",
    "s"
   ]
  },
  {
   "cell_type": "code",
   "execution_count": 186,
   "id": "23611220-7c32-4275-86ef-5953e0d16b90",
   "metadata": {},
   "outputs": [],
   "source": [
    "#s. discard >> if some value is  not present in the data structure , so it will not throw an error"
   ]
  },
  {
   "cell_type": "code",
   "execution_count": null,
   "id": "135ffdba-347c-4dd3-b922-2e6e9ab2a0b4",
   "metadata": {},
   "outputs": [],
   "source": []
  }
 ],
 "metadata": {
  "kernelspec": {
   "display_name": "Python 3 (ipykernel)",
   "language": "python",
   "name": "python3"
  },
  "language_info": {
   "codemirror_mode": {
    "name": "ipython",
    "version": 3
   },
   "file_extension": ".py",
   "mimetype": "text/x-python",
   "name": "python",
   "nbconvert_exporter": "python",
   "pygments_lexer": "ipython3",
   "version": "3.12.4"
  }
 },
 "nbformat": 4,
 "nbformat_minor": 5
}
