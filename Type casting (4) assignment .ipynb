{
 "cells": [
  {
   "cell_type": "code",
   "execution_count": 5,
   "id": "60356473-50f0-4e68-ac98-a6010f389c30",
   "metadata": {},
   "outputs": [
    {
     "data": {
      "text/plain": [
       "2"
      ]
     },
     "execution_count": 5,
     "metadata": {},
     "output_type": "execute_result"
    }
   ],
   "source": [
    "#interger >> strings\n",
    "a=2\n",
    "a"
   ]
  },
  {
   "cell_type": "code",
   "execution_count": 6,
   "id": "4e8c0192-5343-49a7-a9ce-24b4105b88db",
   "metadata": {},
   "outputs": [
    {
     "data": {
      "text/plain": [
       "int"
      ]
     },
     "execution_count": 6,
     "metadata": {},
     "output_type": "execute_result"
    }
   ],
   "source": [
    "type(a)"
   ]
  },
  {
   "cell_type": "code",
   "execution_count": 2,
   "id": "84e64d59-733e-45c1-a63f-7722ceb833b9",
   "metadata": {},
   "outputs": [
    {
     "data": {
      "text/plain": [
       "'2'"
      ]
     },
     "execution_count": 2,
     "metadata": {},
     "output_type": "execute_result"
    }
   ],
   "source": [
    "b=str(a)\n",
    "b"
   ]
  },
  {
   "cell_type": "code",
   "execution_count": 4,
   "id": "52976ba4-31a1-409d-8000-4838f048942c",
   "metadata": {},
   "outputs": [
    {
     "data": {
      "text/plain": [
       "str"
      ]
     },
     "execution_count": 4,
     "metadata": {},
     "output_type": "execute_result"
    }
   ],
   "source": [
    "type(b)"
   ]
  },
  {
   "cell_type": "code",
   "execution_count": 7,
   "id": "64e68852-0dce-4d06-9674-5a0a1f442ea1",
   "metadata": {},
   "outputs": [],
   "source": [
    "#intergers are converted into the strings\n",
    "#characters cannot be converted into the numbers"
   ]
  },
  {
   "cell_type": "code",
   "execution_count": 8,
   "id": "70bcf860-72ab-410d-895a-5a627c123f30",
   "metadata": {},
   "outputs": [
    {
     "data": {
      "text/plain": [
       "'23'"
      ]
     },
     "execution_count": 8,
     "metadata": {},
     "output_type": "execute_result"
    }
   ],
   "source": [
    "a=\"2\"\n",
    "b=\"3\"\n",
    "a+b"
   ]
  },
  {
   "cell_type": "code",
   "execution_count": 9,
   "id": "c5ddecd0-9e30-470c-93b6-759e7e433d6b",
   "metadata": {},
   "outputs": [
    {
     "data": {
      "text/plain": [
       "str"
      ]
     },
     "execution_count": 9,
     "metadata": {},
     "output_type": "execute_result"
    }
   ],
   "source": [
    "type(a+b)"
   ]
  },
  {
   "cell_type": "code",
   "execution_count": 11,
   "id": "54e439e9-d31b-4238-860d-48fe636cbb81",
   "metadata": {},
   "outputs": [
    {
     "data": {
      "text/plain": [
       "2"
      ]
     },
     "execution_count": 11,
     "metadata": {},
     "output_type": "execute_result"
    }
   ],
   "source": [
    "a=\"2\"\n",
    "b=\"3\"\n",
    "int(a)"
   ]
  },
  {
   "cell_type": "code",
   "execution_count": 12,
   "id": "e5c4ee67-3a92-49c8-a95e-ebfe148f2f49",
   "metadata": {},
   "outputs": [
    {
     "data": {
      "text/plain": [
       "str"
      ]
     },
     "execution_count": 12,
     "metadata": {},
     "output_type": "execute_result"
    }
   ],
   "source": [
    "type(a)"
   ]
  },
  {
   "cell_type": "code",
   "execution_count": 13,
   "id": "de4b8eae-2c50-4bf9-890e-e36211868948",
   "metadata": {},
   "outputs": [],
   "source": [
    "#type casting >> implicit and explicit "
   ]
  },
  {
   "cell_type": "code",
   "execution_count": 14,
   "id": "c0252bf2-d803-4167-a11c-c727e64db297",
   "metadata": {},
   "outputs": [],
   "source": [
    "#implicit type cating >>python understand the data type"
   ]
  },
  {
   "cell_type": "code",
   "execution_count": 15,
   "id": "4668ac12-38d6-49a6-8ae2-3720809919f5",
   "metadata": {},
   "outputs": [
    {
     "data": {
      "text/plain": [
       "int"
      ]
     },
     "execution_count": 15,
     "metadata": {},
     "output_type": "execute_result"
    }
   ],
   "source": [
    "a=56\n",
    "type(a)"
   ]
  },
  {
   "cell_type": "code",
   "execution_count": 16,
   "id": "5ca2a11e-c2f1-40c6-a3b0-4b0d4996da91",
   "metadata": {},
   "outputs": [
    {
     "data": {
      "text/plain": [
       "101"
      ]
     },
     "execution_count": 16,
     "metadata": {},
     "output_type": "execute_result"
    }
   ],
   "source": [
    "2+99"
   ]
  },
  {
   "cell_type": "code",
   "execution_count": 1,
   "id": "621bd930-3b7d-48e9-9165-f2270a50b586",
   "metadata": {},
   "outputs": [],
   "source": [
    "#expliciting type casting >> convert data type using inbuilt funtion>>str,int,float,boolen\n"
   ]
  },
  {
   "cell_type": "code",
   "execution_count": 2,
   "id": "9f41eedf-0dc0-4547-9661-55ab0e599e1f",
   "metadata": {},
   "outputs": [
    {
     "data": {
      "text/plain": [
       "'vikasthakur'"
      ]
     },
     "execution_count": 2,
     "metadata": {},
     "output_type": "execute_result"
    }
   ],
   "source": [
    "#concatention >> means to add string or to add more then 2 strings togethor\n",
    "#to combaine twp string \n",
    "a=\"vikas\"\n",
    "b=\"thakur\"\n",
    "a+b"
   ]
  },
  {
   "cell_type": "code",
   "execution_count": 3,
   "id": "cd253a91-d8b3-4ff7-ab4c-8ee04cbd3b47",
   "metadata": {},
   "outputs": [
    {
     "data": {
      "text/plain": [
       "'data analyasis'"
      ]
     },
     "execution_count": 3,
     "metadata": {},
     "output_type": "execute_result"
    }
   ],
   "source": [
    "a=\"data\"\n",
    "b=\" analyasis\"\n",
    "a+b"
   ]
  },
  {
   "cell_type": "code",
   "execution_count": null,
   "id": "9837c70a-fad6-4ca7-8477-71cd9ef46ef9",
   "metadata": {},
   "outputs": [],
   "source": []
  }
 ],
 "metadata": {
  "kernelspec": {
   "display_name": "Python 3 (ipykernel)",
   "language": "python",
   "name": "python3"
  },
  "language_info": {
   "codemirror_mode": {
    "name": "ipython",
    "version": 3
   },
   "file_extension": ".py",
   "mimetype": "text/x-python",
   "name": "python",
   "nbconvert_exporter": "python",
   "pygments_lexer": "ipython3",
   "version": "3.10.8"
  }
 },
 "nbformat": 4,
 "nbformat_minor": 5
}
