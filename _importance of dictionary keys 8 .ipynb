{
 "cells": [
  {
   "cell_type": "code",
   "execution_count": 314,
   "id": "03e573d3-119b-4131-8ee7-0c652d76d3da",
   "metadata": {},
   "outputs": [],
   "source": [
    "#using stings as dictionary "
   ]
  },
  {
   "cell_type": "code",
   "execution_count": 326,
   "id": "9bfca6a2-437e-4bbd-8a5c-d46cbe610e8f",
   "metadata": {},
   "outputs": [
    {
     "data": {
      "text/plain": [
       "{'name': 'vikas', 'age': 24}"
      ]
     },
     "execution_count": 326,
     "metadata": {},
     "output_type": "execute_result"
    }
   ],
   "source": [
    "my_details={\"name\":\"vikas\",\"age\":24}\n",
    "my_details"
   ]
  },
  {
   "cell_type": "code",
   "execution_count": 330,
   "id": "15127f7d-d417-498b-aa48-7595e204042d",
   "metadata": {},
   "outputs": [
    {
     "name": "stdout",
     "output_type": "stream",
     "text": [
      "{'name': 'vikas', 'age': 24}\n",
      "{'name': 'vikas', 'age': 24}\n"
     ]
    }
   ],
   "source": [
    "my_details={\"name\":\"vikas\",\"age\":24,}\n",
    "for i in my_details:\n",
    "    print(my_details)"
   ]
  },
  {
   "cell_type": "code",
   "execution_count": 332,
   "id": "c6844a7b-2d64-4eb6-9935-ff384ed6d9cc",
   "metadata": {},
   "outputs": [],
   "source": [
    "#Using tuples as dictionary keys"
   ]
  },
  {
   "cell_type": "code",
   "execution_count": 338,
   "id": "17d89f07-df3e-4ed9-ab3f-7593fada527c",
   "metadata": {},
   "outputs": [
    {
     "data": {
      "text/plain": [
       "100"
      ]
     },
     "execution_count": 338,
     "metadata": {},
     "output_type": "execute_result"
    }
   ],
   "source": [
    "dict={('x', 'y'): 100, ('a', 'b'): 200}\n",
    "dict[('x', 'y')]"
   ]
  },
  {
   "cell_type": "code",
   "execution_count": 342,
   "id": "01dede87-e7c9-4b8d-8287-87b9425c0928",
   "metadata": {},
   "outputs": [
    {
     "data": {
      "text/plain": [
       "200"
      ]
     },
     "execution_count": 342,
     "metadata": {},
     "output_type": "execute_result"
    }
   ],
   "source": [
    "dict1={(\"a\",\"b\"):200, (\"x\",\"b\"):400}\n",
    "dict1[(\"a\",\"b\")]\n"
   ]
  },
  {
   "cell_type": "code",
   "execution_count": null,
   "id": "31d05b2c-5e7c-435d-87d9-6cce46094ea2",
   "metadata": {},
   "outputs": [],
   "source": []
  }
 ],
 "metadata": {
  "kernelspec": {
   "display_name": "Python 3 (ipykernel)",
   "language": "python",
   "name": "python3"
  },
  "language_info": {
   "codemirror_mode": {
    "name": "ipython",
    "version": 3
   },
   "file_extension": ".py",
   "mimetype": "text/x-python",
   "name": "python",
   "nbconvert_exporter": "python",
   "pygments_lexer": "ipython3",
   "version": "3.12.4"
  }
 },
 "nbformat": 4,
 "nbformat_minor": 5
}
