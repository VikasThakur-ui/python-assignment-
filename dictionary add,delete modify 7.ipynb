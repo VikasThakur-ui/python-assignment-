{
 "cells": [
  {
   "cell_type": "code",
   "execution_count": 27,
   "id": "d14d2ca4-692a-49e9-9bc4-b34d823dc8b9",
   "metadata": {},
   "outputs": [],
   "source": [
    "#dictionaries, which stores the data in the form of the key value pair."
   ]
  },
  {
   "cell_type": "code",
   "execution_count": 33,
   "id": "eff37f65-b4d9-40d5-b21d-7f4b302f0018",
   "metadata": {},
   "outputs": [
    {
     "data": {
      "text/plain": [
       "{'apple'}"
      ]
     },
     "execution_count": 33,
     "metadata": {},
     "output_type": "execute_result"
    }
   ],
   "source": [
    "my_dict={\"apple\"}\n",
    "my_dict"
   ]
  },
  {
   "cell_type": "code",
   "execution_count": 31,
   "id": "4d4499b7-087a-4218-a10a-96f1bf9b9c54",
   "metadata": {},
   "outputs": [
    {
     "data": {
      "text/plain": [
       "set"
      ]
     },
     "execution_count": 31,
     "metadata": {},
     "output_type": "execute_result"
    }
   ],
   "source": [
    "type(my_dict)"
   ]
  },
  {
   "cell_type": "code",
   "execution_count": 37,
   "id": "5e4c5200-470f-487b-8206-b0672a1b9ad7",
   "metadata": {},
   "outputs": [
    {
     "data": {
      "text/plain": [
       "{'father': 123456789, 'mother': 987654321}"
      ]
     },
     "execution_count": 37,
     "metadata": {},
     "output_type": "execute_result"
    }
   ],
   "source": [
    "phonebook={\"father\":123456789,\"mother\":987654321}\n",
    "phonebook"
   ]
  },
  {
   "cell_type": "code",
   "execution_count": 42,
   "id": "ac954356-cad9-464d-8ea2-a7d5f701afee",
   "metadata": {},
   "outputs": [
    {
     "data": {
      "text/plain": [
       "123456789"
      ]
     },
     "execution_count": 42,
     "metadata": {},
     "output_type": "execute_result"
    }
   ],
   "source": [
    "phonebook[\"father\"]"
   ]
  },
  {
   "cell_type": "code",
   "execution_count": 43,
   "id": "20d83e67-d026-4b95-b75d-98a3627773a1",
   "metadata": {},
   "outputs": [
    {
     "data": {
      "text/plain": [
       "987654321"
      ]
     },
     "execution_count": 43,
     "metadata": {},
     "output_type": "execute_result"
    }
   ],
   "source": [
    "phonebook[\"mother\"]"
   ]
  },
  {
   "cell_type": "code",
   "execution_count": 58,
   "id": "561ac5b3-9f3b-4b0c-b3b9-2495f4020996",
   "metadata": {},
   "outputs": [
    {
     "data": {
      "text/plain": [
       "{'ecco': 1538, 'auto': 1214, 'bike': 4371}"
      ]
     },
     "execution_count": 58,
     "metadata": {},
     "output_type": "execute_result"
    }
   ],
   "source": [
    "vech_number={\"ecco\":1538,\"auto\":1214,\"bike\":4371}\n",
    "vech_number"
   ]
  },
  {
   "cell_type": "code",
   "execution_count": 59,
   "id": "52909f95-b9cb-4062-9578-6bd171caa6ba",
   "metadata": {},
   "outputs": [
    {
     "data": {
      "text/plain": [
       "dict_keys(['ecco', 'auto', 'bike'])"
      ]
     },
     "execution_count": 59,
     "metadata": {},
     "output_type": "execute_result"
    }
   ],
   "source": [
    "vech_number.keys()"
   ]
  },
  {
   "cell_type": "code",
   "execution_count": 56,
   "id": "db21f759-6a41-47ce-aba6-9ae72d2c1366",
   "metadata": {},
   "outputs": [],
   "source": [
    "#to find keys"
   ]
  },
  {
   "cell_type": "code",
   "execution_count": 57,
   "id": "134cabc6-afa6-4a0f-8294-afd81daf1ce1",
   "metadata": {},
   "outputs": [
    {
     "data": {
      "text/plain": [
       "dict_keys(['father', 'mother'])"
      ]
     },
     "execution_count": 57,
     "metadata": {},
     "output_type": "execute_result"
    }
   ],
   "source": [
    "phonebook.keys()"
   ]
  },
  {
   "cell_type": "code",
   "execution_count": 46,
   "id": "adb3f194-f10a-4664-a361-5f42d36b9b76",
   "metadata": {},
   "outputs": [
    {
     "data": {
      "text/plain": [
       "dict_values([123456789, 987654321])"
      ]
     },
     "execution_count": 46,
     "metadata": {},
     "output_type": "execute_result"
    }
   ],
   "source": [
    "phonebook.values()"
   ]
  },
  {
   "cell_type": "code",
   "execution_count": 47,
   "id": "e39e88f9-a6d4-4464-bc01-57013864b33b",
   "metadata": {},
   "outputs": [
    {
     "data": {
      "text/plain": [
       "{'panner_tikka': 250, 'panner_chilii': 300}"
      ]
     },
     "execution_count": 47,
     "metadata": {},
     "output_type": "execute_result"
    }
   ],
   "source": [
    "rest_menu={\"panner_tikka\":250,\"panner_chilii\":300}\n",
    "rest_menu"
   ]
  },
  {
   "cell_type": "code",
   "execution_count": 51,
   "id": "e0ba0e0a-90fe-4e5a-b59c-fc43484e2ce7",
   "metadata": {},
   "outputs": [
    {
     "data": {
      "text/plain": [
       "{'panner_tikka': 250, 'panner_chilii': 300}"
      ]
     },
     "execution_count": 51,
     "metadata": {},
     "output_type": "execute_result"
    }
   ],
   "source": [
    "rest_menu.values()\n",
    "rest_menu"
   ]
  },
  {
   "cell_type": "code",
   "execution_count": 52,
   "id": "26e2dc40-43ac-4ca0-b9c6-e7da0f5b1bcc",
   "metadata": {},
   "outputs": [
    {
     "data": {
      "text/plain": [
       "dict_keys(['panner_tikka', 'panner_chilii'])"
      ]
     },
     "execution_count": 52,
     "metadata": {},
     "output_type": "execute_result"
    }
   ],
   "source": [
    "rest_menu.keys()"
   ]
  },
  {
   "cell_type": "code",
   "execution_count": 53,
   "id": "df58288a-cc71-4a4e-ad2e-870204c7b815",
   "metadata": {},
   "outputs": [
    {
     "data": {
      "text/plain": [
       "{'science': 2, 'sst': 2, 'hindi': 4}"
      ]
     },
     "execution_count": 53,
     "metadata": {},
     "output_type": "execute_result"
    }
   ],
   "source": [
    "books_name={\"science\":2,\"sst\":2,\"hindi\":4}\n",
    "books_name"
   ]
  },
  {
   "cell_type": "code",
   "execution_count": 54,
   "id": "44765140-68e2-4053-bee6-43a5aa1f4b5b",
   "metadata": {},
   "outputs": [
    {
     "data": {
      "text/plain": [
       "dict_keys(['science', 'sst', 'hindi'])"
      ]
     },
     "execution_count": 54,
     "metadata": {},
     "output_type": "execute_result"
    }
   ],
   "source": [
    "books_name.keys()"
   ]
  },
  {
   "cell_type": "code",
   "execution_count": 55,
   "id": "edd4f31b-d296-4482-8f0b-36b9ff259345",
   "metadata": {},
   "outputs": [
    {
     "data": {
      "text/plain": [
       "dict_values([2, 2, 4])"
      ]
     },
     "execution_count": 55,
     "metadata": {},
     "output_type": "execute_result"
    }
   ],
   "source": [
    "books_name.values()"
   ]
  },
  {
   "cell_type": "code",
   "execution_count": 2,
   "id": "f6080dd1-d983-40d7-be1f-de236b303aac",
   "metadata": {},
   "outputs": [
    {
     "data": {
      "text/plain": [
       "('i', [1, 2, 3, 4, 5])"
      ]
     },
     "execution_count": 2,
     "metadata": {},
     "output_type": "execute_result"
    }
   ],
   "source": [
    "#array\n",
    "array=('i',[1,2,3,4,5])\n",
    "array"
   ]
  },
  {
   "cell_type": "code",
   "execution_count": 63,
   "id": "37dfc981-2dad-41e6-afe6-a0830d87a4ce",
   "metadata": {},
   "outputs": [],
   "source": [
    "#srting"
   ]
  },
  {
   "cell_type": "code",
   "execution_count": 64,
   "id": "b3c6728f-39b6-4b4c-8746-6a87e0aaa912",
   "metadata": {},
   "outputs": [
    {
     "data": {
      "text/plain": [
       "'vikas'"
      ]
     },
     "execution_count": 64,
     "metadata": {},
     "output_type": "execute_result"
    }
   ],
   "source": [
    "s=\"vikas\"\n",
    "s"
   ]
  },
  {
   "cell_type": "code",
   "execution_count": 65,
   "id": "53f76872-08a9-47da-bd8f-b87b456e45af",
   "metadata": {},
   "outputs": [
    {
     "name": "stdout",
     "output_type": "stream",
     "text": [
      "v\n",
      "i\n",
      "k\n",
      "a\n",
      "s\n"
     ]
    }
   ],
   "source": [
    "for i in s:\n",
    "    print(i)"
   ]
  },
  {
   "cell_type": "code",
   "execution_count": null,
   "id": "fddc52de-470c-4dee-a83b-441a6cce1908",
   "metadata": {},
   "outputs": [],
   "source": [
    "#add dictionary"
   ]
  },
  {
   "cell_type": "code",
   "execution_count": 264,
   "id": "f2122911-d8cd-4ba5-8396-1470be5117af",
   "metadata": {},
   "outputs": [
    {
     "data": {
      "text/plain": [
       "{'apple', 'banana', 'mango'}"
      ]
     },
     "execution_count": 264,
     "metadata": {},
     "output_type": "execute_result"
    }
   ],
   "source": [
    "my_dict={\"apple\",\"mango\"}\n",
    "my_dict.add(\"banana\")\n",
    "my_dict"
   ]
  },
  {
   "cell_type": "code",
   "execution_count": null,
   "id": "eb19e987-faec-4b86-a9fa-c21405967b2e",
   "metadata": {},
   "outputs": [],
   "source": [
    "#remove dictionary"
   ]
  },
  {
   "cell_type": "code",
   "execution_count": 266,
   "id": "f928af8a-21d2-456b-93ff-564593873a5b",
   "metadata": {},
   "outputs": [
    {
     "data": {
      "text/plain": [
       "{'banana', 'mango'}"
      ]
     },
     "execution_count": 266,
     "metadata": {},
     "output_type": "execute_result"
    }
   ],
   "source": [
    "my_dict={\"apple\",\"banana\",\"mango\"}\n",
    "my_dict.remove(\"apple\")\n",
    "my_dict"
   ]
  },
  {
   "cell_type": "code",
   "execution_count": null,
   "id": "6fbcac9a-17fb-40a2-aafb-b70c1122f388",
   "metadata": {},
   "outputs": [],
   "source": []
  }
 ],
 "metadata": {
  "kernelspec": {
   "display_name": "Python 3 (ipykernel)",
   "language": "python",
   "name": "python3"
  },
  "language_info": {
   "codemirror_mode": {
    "name": "ipython",
    "version": 3
   },
   "file_extension": ".py",
   "mimetype": "text/x-python",
   "name": "python",
   "nbconvert_exporter": "python",
   "pygments_lexer": "ipython3",
   "version": "3.12.4"
  }
 },
 "nbformat": 4,
 "nbformat_minor": 5
}
